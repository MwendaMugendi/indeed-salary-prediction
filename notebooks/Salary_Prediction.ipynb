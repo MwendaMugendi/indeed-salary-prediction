{
 "cells": [
  {
   "cell_type": "code",
   "execution_count": 1,
   "metadata": {},
   "outputs": [],
   "source": [
    "import warnings\n",
    "warnings.simplefilter('ignore')\n",
    "\n",
    "# %matplotlib widget\n",
    "%matplotlib inline\n",
    "import matplotlib.pyplot as plt\n",
    "plt.style.use('seaborn')\n",
    "from matplotlib import rcParams\n",
    "rcParams.update({'figure.autolayout': True})\n",
    "import seaborn as sns\n",
    "sns.set(font_scale = 2)\n",
    "\n",
    "# Internal ipython tool for setting figure size\n",
    "from IPython.core.pylabtools import figsize\n",
    "\n",
    "import pandas as pd\n",
    "import numpy as np\n",
    "pd.set_option('display.max_columns', 10)\n",
    "pd.set_option('display.width', 350)\n",
    "\n",
    "data = pd.read_csv('../data/raw/train_features.csv')\n",
    "salary_data = pd.read_csv('../data/raw/train_salaries.csv')"
   ]
  },
  {
   "cell_type": "code",
   "execution_count": 2,
   "metadata": {},
   "outputs": [
    {
     "data": {
      "text/html": [
       "<div>\n",
       "<style scoped>\n",
       "    .dataframe tbody tr th:only-of-type {\n",
       "        vertical-align: middle;\n",
       "    }\n",
       "\n",
       "    .dataframe tbody tr th {\n",
       "        vertical-align: top;\n",
       "    }\n",
       "\n",
       "    .dataframe thead th {\n",
       "        text-align: right;\n",
       "    }\n",
       "</style>\n",
       "<table border=\"1\" class=\"dataframe\">\n",
       "  <thead>\n",
       "    <tr style=\"text-align: right;\">\n",
       "      <th></th>\n",
       "      <th>jobId</th>\n",
       "      <th>companyId</th>\n",
       "      <th>jobType</th>\n",
       "      <th>degree</th>\n",
       "      <th>major</th>\n",
       "      <th>industry</th>\n",
       "      <th>yearsExperience</th>\n",
       "      <th>milesFromMetropolis</th>\n",
       "    </tr>\n",
       "  </thead>\n",
       "  <tbody>\n",
       "    <tr>\n",
       "      <th>0</th>\n",
       "      <td>JOB1362684407687</td>\n",
       "      <td>COMP37</td>\n",
       "      <td>CFO</td>\n",
       "      <td>MASTERS</td>\n",
       "      <td>MATH</td>\n",
       "      <td>HEALTH</td>\n",
       "      <td>10</td>\n",
       "      <td>83</td>\n",
       "    </tr>\n",
       "    <tr>\n",
       "      <th>1</th>\n",
       "      <td>JOB1362684407688</td>\n",
       "      <td>COMP19</td>\n",
       "      <td>CEO</td>\n",
       "      <td>HIGH_SCHOOL</td>\n",
       "      <td>NONE</td>\n",
       "      <td>WEB</td>\n",
       "      <td>3</td>\n",
       "      <td>73</td>\n",
       "    </tr>\n",
       "    <tr>\n",
       "      <th>2</th>\n",
       "      <td>JOB1362684407689</td>\n",
       "      <td>COMP52</td>\n",
       "      <td>VICE_PRESIDENT</td>\n",
       "      <td>DOCTORAL</td>\n",
       "      <td>PHYSICS</td>\n",
       "      <td>HEALTH</td>\n",
       "      <td>10</td>\n",
       "      <td>38</td>\n",
       "    </tr>\n",
       "    <tr>\n",
       "      <th>3</th>\n",
       "      <td>JOB1362684407690</td>\n",
       "      <td>COMP38</td>\n",
       "      <td>MANAGER</td>\n",
       "      <td>DOCTORAL</td>\n",
       "      <td>CHEMISTRY</td>\n",
       "      <td>AUTO</td>\n",
       "      <td>8</td>\n",
       "      <td>17</td>\n",
       "    </tr>\n",
       "    <tr>\n",
       "      <th>4</th>\n",
       "      <td>JOB1362684407691</td>\n",
       "      <td>COMP7</td>\n",
       "      <td>VICE_PRESIDENT</td>\n",
       "      <td>BACHELORS</td>\n",
       "      <td>PHYSICS</td>\n",
       "      <td>FINANCE</td>\n",
       "      <td>8</td>\n",
       "      <td>16</td>\n",
       "    </tr>\n",
       "  </tbody>\n",
       "</table>\n",
       "</div>"
      ],
      "text/plain": [
       "              jobId companyId         jobType       degree      major industry  yearsExperience  milesFromMetropolis\n",
       "0  JOB1362684407687    COMP37             CFO      MASTERS       MATH   HEALTH               10                   83\n",
       "1  JOB1362684407688    COMP19             CEO  HIGH_SCHOOL       NONE      WEB                3                   73\n",
       "2  JOB1362684407689    COMP52  VICE_PRESIDENT     DOCTORAL    PHYSICS   HEALTH               10                   38\n",
       "3  JOB1362684407690    COMP38         MANAGER     DOCTORAL  CHEMISTRY     AUTO                8                   17\n",
       "4  JOB1362684407691     COMP7  VICE_PRESIDENT    BACHELORS    PHYSICS  FINANCE                8                   16"
      ]
     },
     "execution_count": 2,
     "metadata": {},
     "output_type": "execute_result"
    }
   ],
   "source": [
    "data.head()"
   ]
  },
  {
   "cell_type": "code",
   "execution_count": 3,
   "metadata": {},
   "outputs": [
    {
     "name": "stdout",
     "output_type": "stream",
     "text": [
      "<class 'pandas.core.frame.DataFrame'>\n",
      "RangeIndex: 1000000 entries, 0 to 999999\n",
      "Data columns (total 8 columns):\n",
      " #   Column               Non-Null Count    Dtype \n",
      "---  ------               --------------    ----- \n",
      " 0   jobId                1000000 non-null  object\n",
      " 1   companyId            1000000 non-null  object\n",
      " 2   jobType              1000000 non-null  object\n",
      " 3   degree               1000000 non-null  object\n",
      " 4   major                1000000 non-null  object\n",
      " 5   industry             1000000 non-null  object\n",
      " 6   yearsExperience      1000000 non-null  int64 \n",
      " 7   milesFromMetropolis  1000000 non-null  int64 \n",
      "dtypes: int64(2), object(6)\n",
      "memory usage: 61.0+ MB\n"
     ]
    }
   ],
   "source": [
    "data.info()"
   ]
  },
  {
   "cell_type": "code",
   "execution_count": 4,
   "metadata": {},
   "outputs": [
    {
     "data": {
      "text/html": [
       "<div>\n",
       "<style scoped>\n",
       "    .dataframe tbody tr th:only-of-type {\n",
       "        vertical-align: middle;\n",
       "    }\n",
       "\n",
       "    .dataframe tbody tr th {\n",
       "        vertical-align: top;\n",
       "    }\n",
       "\n",
       "    .dataframe thead th {\n",
       "        text-align: right;\n",
       "    }\n",
       "</style>\n",
       "<table border=\"1\" class=\"dataframe\">\n",
       "  <thead>\n",
       "    <tr style=\"text-align: right;\">\n",
       "      <th></th>\n",
       "      <th>jobId</th>\n",
       "      <th>salary</th>\n",
       "    </tr>\n",
       "  </thead>\n",
       "  <tbody>\n",
       "    <tr>\n",
       "      <th>0</th>\n",
       "      <td>JOB1362684407687</td>\n",
       "      <td>130</td>\n",
       "    </tr>\n",
       "    <tr>\n",
       "      <th>1</th>\n",
       "      <td>JOB1362684407688</td>\n",
       "      <td>101</td>\n",
       "    </tr>\n",
       "    <tr>\n",
       "      <th>2</th>\n",
       "      <td>JOB1362684407689</td>\n",
       "      <td>137</td>\n",
       "    </tr>\n",
       "    <tr>\n",
       "      <th>3</th>\n",
       "      <td>JOB1362684407690</td>\n",
       "      <td>142</td>\n",
       "    </tr>\n",
       "    <tr>\n",
       "      <th>4</th>\n",
       "      <td>JOB1362684407691</td>\n",
       "      <td>163</td>\n",
       "    </tr>\n",
       "  </tbody>\n",
       "</table>\n",
       "</div>"
      ],
      "text/plain": [
       "              jobId  salary\n",
       "0  JOB1362684407687     130\n",
       "1  JOB1362684407688     101\n",
       "2  JOB1362684407689     137\n",
       "3  JOB1362684407690     142\n",
       "4  JOB1362684407691     163"
      ]
     },
     "execution_count": 4,
     "metadata": {},
     "output_type": "execute_result"
    }
   ],
   "source": [
    "salary_data.head()"
   ]
  },
  {
   "cell_type": "code",
   "execution_count": 5,
   "metadata": {},
   "outputs": [
    {
     "name": "stdout",
     "output_type": "stream",
     "text": [
      "<class 'pandas.core.frame.DataFrame'>\n",
      "RangeIndex: 1000000 entries, 0 to 999999\n",
      "Data columns (total 2 columns):\n",
      " #   Column  Non-Null Count    Dtype \n",
      "---  ------  --------------    ----- \n",
      " 0   jobId   1000000 non-null  object\n",
      " 1   salary  1000000 non-null  int64 \n",
      "dtypes: int64(1), object(1)\n",
      "memory usage: 15.3+ MB\n"
     ]
    }
   ],
   "source": [
    "salary_data.info()"
   ]
  },
  {
   "cell_type": "markdown",
   "metadata": {},
   "source": [
    "## Data Processing"
   ]
  },
  {
   "cell_type": "code",
   "execution_count": 6,
   "metadata": {},
   "outputs": [
    {
     "name": "stdout",
     "output_type": "stream",
     "text": [
      "email_table.csv:\t 1000000\n",
      "email_opened_table.csv:\t 1000000\n"
     ]
    }
   ],
   "source": [
    "# check uniqueness of job_id in three tables\n",
    "print('email_table.csv:\\t', len(data['jobId'].unique()))\n",
    "print('email_opened_table.csv:\\t', len(salary_data['jobId'].unique()))"
   ]
  },
  {
   "cell_type": "code",
   "execution_count": 7,
   "metadata": {},
   "outputs": [
    {
     "data": {
      "text/html": [
       "<div>\n",
       "<style scoped>\n",
       "    .dataframe tbody tr th:only-of-type {\n",
       "        vertical-align: middle;\n",
       "    }\n",
       "\n",
       "    .dataframe tbody tr th {\n",
       "        vertical-align: top;\n",
       "    }\n",
       "\n",
       "    .dataframe thead th {\n",
       "        text-align: right;\n",
       "    }\n",
       "</style>\n",
       "<table border=\"1\" class=\"dataframe\">\n",
       "  <thead>\n",
       "    <tr style=\"text-align: right;\">\n",
       "      <th></th>\n",
       "      <th>jobId</th>\n",
       "      <th>companyId</th>\n",
       "      <th>jobType</th>\n",
       "      <th>degree</th>\n",
       "      <th>major</th>\n",
       "      <th>industry</th>\n",
       "      <th>yearsExperience</th>\n",
       "      <th>milesFromMetropolis</th>\n",
       "      <th>salary</th>\n",
       "    </tr>\n",
       "  </thead>\n",
       "  <tbody>\n",
       "    <tr>\n",
       "      <th>0</th>\n",
       "      <td>JOB1362684407687</td>\n",
       "      <td>COMP37</td>\n",
       "      <td>CFO</td>\n",
       "      <td>MASTERS</td>\n",
       "      <td>MATH</td>\n",
       "      <td>HEALTH</td>\n",
       "      <td>10</td>\n",
       "      <td>83</td>\n",
       "      <td>130</td>\n",
       "    </tr>\n",
       "    <tr>\n",
       "      <th>1</th>\n",
       "      <td>JOB1362684407688</td>\n",
       "      <td>COMP19</td>\n",
       "      <td>CEO</td>\n",
       "      <td>HIGH_SCHOOL</td>\n",
       "      <td>NONE</td>\n",
       "      <td>WEB</td>\n",
       "      <td>3</td>\n",
       "      <td>73</td>\n",
       "      <td>101</td>\n",
       "    </tr>\n",
       "    <tr>\n",
       "      <th>2</th>\n",
       "      <td>JOB1362684407689</td>\n",
       "      <td>COMP52</td>\n",
       "      <td>VICE_PRESIDENT</td>\n",
       "      <td>DOCTORAL</td>\n",
       "      <td>PHYSICS</td>\n",
       "      <td>HEALTH</td>\n",
       "      <td>10</td>\n",
       "      <td>38</td>\n",
       "      <td>137</td>\n",
       "    </tr>\n",
       "    <tr>\n",
       "      <th>3</th>\n",
       "      <td>JOB1362684407690</td>\n",
       "      <td>COMP38</td>\n",
       "      <td>MANAGER</td>\n",
       "      <td>DOCTORAL</td>\n",
       "      <td>CHEMISTRY</td>\n",
       "      <td>AUTO</td>\n",
       "      <td>8</td>\n",
       "      <td>17</td>\n",
       "      <td>142</td>\n",
       "    </tr>\n",
       "    <tr>\n",
       "      <th>4</th>\n",
       "      <td>JOB1362684407691</td>\n",
       "      <td>COMP7</td>\n",
       "      <td>VICE_PRESIDENT</td>\n",
       "      <td>BACHELORS</td>\n",
       "      <td>PHYSICS</td>\n",
       "      <td>FINANCE</td>\n",
       "      <td>8</td>\n",
       "      <td>16</td>\n",
       "      <td>163</td>\n",
       "    </tr>\n",
       "  </tbody>\n",
       "</table>\n",
       "</div>"
      ],
      "text/plain": [
       "              jobId companyId         jobType       degree      major industry  yearsExperience  milesFromMetropolis  salary\n",
       "0  JOB1362684407687    COMP37             CFO      MASTERS       MATH   HEALTH               10                   83     130\n",
       "1  JOB1362684407688    COMP19             CEO  HIGH_SCHOOL       NONE      WEB                3                   73     101\n",
       "2  JOB1362684407689    COMP52  VICE_PRESIDENT     DOCTORAL    PHYSICS   HEALTH               10                   38     137\n",
       "3  JOB1362684407690    COMP38         MANAGER     DOCTORAL  CHEMISTRY     AUTO                8                   17     142\n",
       "4  JOB1362684407691     COMP7  VICE_PRESIDENT    BACHELORS    PHYSICS  FINANCE                8                   16     163"
      ]
     },
     "execution_count": 7,
     "metadata": {},
     "output_type": "execute_result"
    }
   ],
   "source": [
    "# Join the two csvs on jobID\n",
    "data = pd.merge(left=data, right=salary_data, how='left', on='jobId')\n",
    "\n",
    "# Write to file\n",
    "data.to_csv('../data/processed/train_features.csv', index = False)\n",
    "\n",
    "data.head()\n"
   ]
  },
  {
   "cell_type": "markdown",
   "metadata": {},
   "source": [
    "## Exploratory Data Analysis"
   ]
  },
  {
   "cell_type": "code",
   "execution_count": 8,
   "metadata": {},
   "outputs": [
    {
     "data": {
      "text/html": [
       "<div>\n",
       "<style scoped>\n",
       "    .dataframe tbody tr th:only-of-type {\n",
       "        vertical-align: middle;\n",
       "    }\n",
       "\n",
       "    .dataframe tbody tr th {\n",
       "        vertical-align: top;\n",
       "    }\n",
       "\n",
       "    .dataframe thead th {\n",
       "        text-align: right;\n",
       "    }\n",
       "</style>\n",
       "<table border=\"1\" class=\"dataframe\">\n",
       "  <thead>\n",
       "    <tr style=\"text-align: right;\">\n",
       "      <th></th>\n",
       "      <th>yearsExperience</th>\n",
       "      <th>milesFromMetropolis</th>\n",
       "      <th>salary</th>\n",
       "    </tr>\n",
       "  </thead>\n",
       "  <tbody>\n",
       "    <tr>\n",
       "      <th>count</th>\n",
       "      <td>1000000.000000</td>\n",
       "      <td>1000000.000000</td>\n",
       "      <td>1000000.000000</td>\n",
       "    </tr>\n",
       "    <tr>\n",
       "      <th>mean</th>\n",
       "      <td>11.992386</td>\n",
       "      <td>49.529260</td>\n",
       "      <td>116.061818</td>\n",
       "    </tr>\n",
       "    <tr>\n",
       "      <th>std</th>\n",
       "      <td>7.212391</td>\n",
       "      <td>28.877733</td>\n",
       "      <td>38.717936</td>\n",
       "    </tr>\n",
       "    <tr>\n",
       "      <th>min</th>\n",
       "      <td>0.000000</td>\n",
       "      <td>0.000000</td>\n",
       "      <td>0.000000</td>\n",
       "    </tr>\n",
       "    <tr>\n",
       "      <th>25%</th>\n",
       "      <td>6.000000</td>\n",
       "      <td>25.000000</td>\n",
       "      <td>88.000000</td>\n",
       "    </tr>\n",
       "    <tr>\n",
       "      <th>50%</th>\n",
       "      <td>12.000000</td>\n",
       "      <td>50.000000</td>\n",
       "      <td>114.000000</td>\n",
       "    </tr>\n",
       "    <tr>\n",
       "      <th>75%</th>\n",
       "      <td>18.000000</td>\n",
       "      <td>75.000000</td>\n",
       "      <td>141.000000</td>\n",
       "    </tr>\n",
       "    <tr>\n",
       "      <th>max</th>\n",
       "      <td>24.000000</td>\n",
       "      <td>99.000000</td>\n",
       "      <td>301.000000</td>\n",
       "    </tr>\n",
       "  </tbody>\n",
       "</table>\n",
       "</div>"
      ],
      "text/plain": [
       "       yearsExperience  milesFromMetropolis          salary\n",
       "count   1000000.000000       1000000.000000  1000000.000000\n",
       "mean         11.992386            49.529260      116.061818\n",
       "std           7.212391            28.877733       38.717936\n",
       "min           0.000000             0.000000        0.000000\n",
       "25%           6.000000            25.000000       88.000000\n",
       "50%          12.000000            50.000000      114.000000\n",
       "75%          18.000000            75.000000      141.000000\n",
       "max          24.000000            99.000000      301.000000"
      ]
     },
     "execution_count": 8,
     "metadata": {},
     "output_type": "execute_result"
    }
   ],
   "source": [
    "# Data Looks Ok\n",
    "data.describe()"
   ]
  },
  {
   "cell_type": "code",
   "execution_count": 9,
   "metadata": {},
   "outputs": [
    {
     "data": {
      "text/plain": [
       "yearsExperience         12.0\n",
       "milesFromMetropolis     50.0\n",
       "salary                 114.0\n",
       "dtype: float64"
      ]
     },
     "execution_count": 9,
     "metadata": {},
     "output_type": "execute_result"
    }
   ],
   "source": [
    "data.median()"
   ]
  },
  {
   "cell_type": "code",
   "execution_count": 10,
   "metadata": {},
   "outputs": [
    {
     "data": {
      "text/plain": [
       "jobId                  0\n",
       "companyId              0\n",
       "jobType                0\n",
       "degree                 0\n",
       "major                  0\n",
       "industry               0\n",
       "yearsExperience        0\n",
       "milesFromMetropolis    0\n",
       "salary                 0\n",
       "dtype: int64"
      ]
     },
     "execution_count": 10,
     "metadata": {},
     "output_type": "execute_result"
    }
   ],
   "source": [
    "# Check for missing values --> No missing values\n",
    "data.isnull().sum()"
   ]
  },
  {
   "cell_type": "code",
   "execution_count": 11,
   "metadata": {},
   "outputs": [
    {
     "name": "stdout",
     "output_type": "stream",
     "text": [
      "jobId                1000000\t ['JOB1362684407687', 'JOB1362684407688', 'JOB1362684407689', 'JOB1362684407690', 'JOB1362684407691']\n",
      "companyId               63\t ['COMP0', 'COMP1', 'COMP10', 'COMP11', 'COMP12']\n",
      "jobType                  8\t ['CEO', 'CFO', 'CTO', 'JANITOR', 'JUNIOR']\n",
      "degree                   5\t ['BACHELORS', 'DOCTORAL', 'HIGH_SCHOOL', 'MASTERS', 'NONE']\n",
      "major                    9\t ['BIOLOGY', 'BUSINESS', 'CHEMISTRY', 'COMPSCI', 'ENGINEERING']\n",
      "industry                 7\t ['AUTO', 'EDUCATION', 'FINANCE', 'HEALTH', 'OIL']\n",
      "yearsExperience         25\t [0, 1, 2, 3, 4]\n",
      "milesFromMetropolis    100\t [0, 1, 2, 3, 4]\n",
      "salary                 280\t [0, 17, 18, 19, 20]\n"
     ]
    }
   ],
   "source": [
    "for column in data.columns:\n",
    "    uniques = sorted(data[column].unique())\n",
    "    \n",
    "    print('{0:20s} {1:5d}\\t'.format(column, len(uniques)), uniques[:5])"
   ]
  },
  {
   "cell_type": "code",
   "execution_count": 12,
   "metadata": {},
   "outputs": [
    {
     "data": {
      "image/png": "[encoded data removed]",
      "text/plain": [
       "<Figure size 576x396 with 1 Axes>"
      ]
     },
     "metadata": {},
     "output_type": "display_data"
    }
   ],
   "source": [
    "# Histogram of Salary\n",
    "plt.style.use('seaborn')\n",
    "plt.hist(data['salary'].dropna(), bins=30);\n",
    "plt.xlabel('Salary'); plt.ylabel('Jobs'); \n",
    "plt.title('Salary Distribution');"
   ]
  },
  {
   "cell_type": "code",
   "execution_count": 13,
   "metadata": {},
   "outputs": [
    {
     "name": "stdout",
     "output_type": "stream",
     "text": [
      "milesFromMetropolis   -0.297666\n",
      "yearsExperience        0.375013\n",
      "salary                 1.000000\n",
      "Name: salary, dtype: float64 \n",
      "\n"
     ]
    }
   ],
   "source": [
    "# Find all correlations and sort \n",
    "correlations_data = data.corr()['salary'].sort_values()\n",
    "\n",
    "# Print the most negative correlations\n",
    "print(correlations_data.head(10), '\\n')\n"
   ]
  },
  {
   "cell_type": "code",
   "execution_count": 14,
   "metadata": {},
   "outputs": [
    {
     "name": "stdout",
     "output_type": "stream",
     "text": [
      "<class 'pandas.core.frame.DataFrame'>\n",
      "Int64Index: 1000000 entries, 0 to 999999\n",
      "Data columns (total 9 columns):\n",
      " #   Column               Non-Null Count    Dtype \n",
      "---  ------               --------------    ----- \n",
      " 0   jobId                1000000 non-null  object\n",
      " 1   companyId            1000000 non-null  object\n",
      " 2   jobType              1000000 non-null  object\n",
      " 3   degree               1000000 non-null  object\n",
      " 4   major                1000000 non-null  object\n",
      " 5   industry             1000000 non-null  object\n",
      " 6   yearsExperience      1000000 non-null  int64 \n",
      " 7   milesFromMetropolis  1000000 non-null  int64 \n",
      " 8   salary               1000000 non-null  int64 \n",
      "dtypes: int64(3), object(6)\n",
      "memory usage: 76.3+ MB\n"
     ]
    }
   ],
   "source": [
    "data.info()"
   ]
  },
  {
   "cell_type": "markdown",
   "metadata": {},
   "source": [
    "#### Observations\n",
    "\n",
    "- This data has an almost perfectly symmetrical distribution, because the mean and the median are approximately similar. \n",
    "- The dataset does not contain any missing values of outliers.\n",
    "- The mean salary is 116 and the median is 114. \n",
    "- There is a slight presence of a right tail. "
   ]
  },
  {
   "cell_type": "code",
   "execution_count": 15,
   "metadata": {},
   "outputs": [
    {
     "name": "stdout",
     "output_type": "stream",
     "text": [
      "Normal Test 0.000\n",
      "True\n",
      "Shapiro Test 0.000\n",
      "True\n"
     ]
    }
   ],
   "source": [
    "from scipy import stats\n",
    "\n",
    "_, p = stats.normaltest(data['salary'])\n",
    "print('Normal Test',format(p, '.3f'))\n",
    "print(p <= 0.05)\n",
    "\n",
    "# Check with Shapiro - Wilk test\n",
    "from scipy.stats import shapiro\n",
    "\n",
    "_, p = shapiro(data['salary'])\n",
    "print('Shapiro Test', format( p, '.3f'))\n",
    "print(p <= 0.05)"
   ]
  },
  {
   "cell_type": "markdown",
   "metadata": {},
   "source": [
    "#### Observation\n",
    "\n",
    "We use a statistical test to verify whether salary has a normal distribution or not. A p- value smaller than 0.05 means the null hypothesis is rejected. As such, a p-value of 0.05 or greater means that the distribution is a normal distribution. \n",
    "\n",
    "Salary, therefore, does not follow a normal distribution. \n",
    "\n",
    "A Shapiro-Wilk test is also used to confirm if the data has been drawn from a normal distribution or not. The results are similar to observations made using the D’Agostino’s K^2 Test. "
   ]
  },
  {
   "cell_type": "code",
   "execution_count": 16,
   "metadata": {},
   "outputs": [
    {
     "data": {
      "text/plain": [
       "<matplotlib.axes._subplots.AxesSubplot at 0x1d283e94c48>"
      ]
     },
     "execution_count": 16,
     "metadata": {},
     "output_type": "execute_result"
    },
    {
     "data": {
      "image/png": "[encoded data removed]",
      "text/plain": [
       "<Figure size 576x396 with 1 Axes>"
      ]
     },
     "metadata": {},
     "output_type": "display_data"
    }
   ],
   "source": [
    "data.groupby(['degree'])['salary'].median().plot.bar()"
   ]
  },
  {
   "cell_type": "code",
   "execution_count": 17,
   "metadata": {},
   "outputs": [
    {
     "data": {
      "text/plain": [
       "<matplotlib.legend.Legend at 0x1d28471d908>"
      ]
     },
     "execution_count": 17,
     "metadata": {},
     "output_type": "execute_result"
    },
    {
     "data": {
      "image/png": "[encoded data removed]",
      "text/plain": [
       "<Figure size 576x396 with 1 Axes>"
      ]
     },
     "metadata": {},
     "output_type": "display_data"
    }
   ],
   "source": [
    "ax = sns.lineplot(x = 'degree', y = \"salary\", \n",
    "                  markers = True, dashes = False, data = data)\n",
    "plt.axhline(data['salary'].mean(), color='red', linestyle='--', linewidth=2, label='Median')\n",
    "plt.xticks(rotation = 45)\n",
    "plt.title('Salary vs Degree')\n",
    "plt.xlabel('Degree')\n",
    "plt.ylabel('Salary')\n",
    "plt.legend(loc='best')"
   ]
  },
  {
   "cell_type": "code",
   "execution_count": 18,
   "metadata": {},
   "outputs": [
    {
     "data": {
      "text/plain": [
       "<matplotlib.axes._subplots.AxesSubplot at 0x1d28473a0c8>"
      ]
     },
     "execution_count": 18,
     "metadata": {},
     "output_type": "execute_result"
    },
    {
     "data": {
      "image/png": "[encoded data removed]",
      "text/plain": [
       "<Figure size 576x396 with 1 Axes>"
      ]
     },
     "metadata": {},
     "output_type": "display_data"
    }
   ],
   "source": [
    "data.groupby(['major'])['salary'].median().plot.bar()"
   ]
  },
  {
   "cell_type": "code",
   "execution_count": 19,
   "metadata": {},
   "outputs": [
    {
     "data": {
      "text/plain": [
       "<matplotlib.legend.Legend at 0x1d283fc7c48>"
      ]
     },
     "execution_count": 19,
     "metadata": {},
     "output_type": "execute_result"
    },
    {
     "data": {
      "image/png": "[encoded data removed]",
      "text/plain": [
       "<Figure size 576x396 with 1 Axes>"
      ]
     },
     "metadata": {},
     "output_type": "display_data"
    }
   ],
   "source": [
    "ax = sns.lineplot(x = 'major', y = \"salary\", \n",
    "                  markers = True, dashes = False, data = data)\n",
    "plt.axhline(data['salary'].mean(), color='red', linestyle='--', linewidth=2, label='Median')\n",
    "plt.xticks(rotation = 45)\n",
    "plt.title('Salary vs Major')\n",
    "plt.xlabel('Major')\n",
    "plt.ylabel('Salary')\n",
    "plt.legend(loc='best')"
   ]
  },
  {
   "cell_type": "code",
   "execution_count": 20,
   "metadata": {},
   "outputs": [
    {
     "data": {
      "text/plain": [
       "<matplotlib.axes._subplots.AxesSubplot at 0x1d283fffa88>"
      ]
     },
     "execution_count": 20,
     "metadata": {},
     "output_type": "execute_result"
    },
    {
     "data": {
      "image/png": "[encoded data removed]",
      "text/plain": [
       "<Figure size 576x396 with 1 Axes>"
      ]
     },
     "metadata": {},
     "output_type": "display_data"
    }
   ],
   "source": [
    "data.groupby(['jobType'])['salary'].median().plot.bar()"
   ]
  },
  {
   "cell_type": "code",
   "execution_count": 21,
   "metadata": {},
   "outputs": [
    {
     "data": {
      "text/plain": [
       "<matplotlib.legend.Legend at 0x1d2840c6788>"
      ]
     },
     "execution_count": 21,
     "metadata": {},
     "output_type": "execute_result"
    },
    {
     "data": {
      "image/png": "[encoded data removed]",
      "text/plain": [
       "<Figure size 576x396 with 1 Axes>"
      ]
     },
     "metadata": {},
     "output_type": "display_data"
    }
   ],
   "source": [
    "ax = sns.lineplot(x = 'jobType', y = \"salary\", \n",
    "                  markers = True, dashes = False, data = data)\n",
    "plt.axhline(data['salary'].mean(), color='red', linestyle='--', linewidth=2, label='Median')\n",
    "plt.xticks(rotation = 45)\n",
    "plt.title('Salary vs JobType')\n",
    "plt.xlabel('Major')\n",
    "plt.ylabel('Salary')\n",
    "plt.legend(loc='best')"
   ]
  },
  {
   "cell_type": "code",
   "execution_count": 22,
   "metadata": {},
   "outputs": [
    {
     "data": {
      "text/plain": [
       "<matplotlib.axes._subplots.AxesSubplot at 0x1d28407ab88>"
      ]
     },
     "execution_count": 22,
     "metadata": {},
     "output_type": "execute_result"
    },
    {
     "data": {
      "image/png": "[encoded data removed]",
      "text/plain": [
       "<Figure size 576x396 with 1 Axes>"
      ]
     },
     "metadata": {},
     "output_type": "display_data"
    }
   ],
   "source": [
    "data.groupby(['industry'])['salary'].median().plot.bar()"
   ]
  },
  {
   "cell_type": "code",
   "execution_count": 23,
   "metadata": {},
   "outputs": [
    {
     "data": {
      "text/plain": [
       "<matplotlib.legend.Legend at 0x1d28390cf08>"
      ]
     },
     "execution_count": 23,
     "metadata": {},
     "output_type": "execute_result"
    },
    {
     "data": {
      "image/png": "[encoded data removed]",
      "text/plain": [
       "<Figure size 576x396 with 1 Axes>"
      ]
     },
     "metadata": {},
     "output_type": "display_data"
    }
   ],
   "source": [
    "ax = sns.lineplot(x = 'industry', y = \"salary\", \n",
    "                  markers = True, dashes = False, data = data)\n",
    "plt.axhline(data['salary'].mean(), color='red', linestyle='--', linewidth=2, label='Median')\n",
    "plt.xticks(rotation = 45)\n",
    "plt.title('Salary vs Industry')\n",
    "plt.xlabel('Industry')\n",
    "plt.ylabel('Salary')\n",
    "plt.legend(loc='best')"
   ]
  },
  {
   "cell_type": "markdown",
   "metadata": {},
   "source": [
    "#### Observations\n",
    "Higher education is an influencer of how much one earns, with doctoral level attracting the most pay.\n",
    "\n",
    "In addition to the level of education, the data reveals that the major an employee undertook has an effect on one's final pay. \n",
    "\n",
    "Unsurprisengly, being the CEO attracts the best pay, followed closely by CFOs. On the other end, janitors attract the least pay. \n",
    "\n",
    "Finance and Oil industries are the most financially rewarding industries to be in, while education is the least financially rewarding industry. \n",
    "\n"
   ]
  },
  {
   "cell_type": "code",
   "execution_count": 24,
   "metadata": {},
   "outputs": [],
   "source": [
    "# Make a copy of the data before transformation\n",
    "raw_features = data.copy()"
   ]
  },
  {
   "cell_type": "markdown",
   "metadata": {},
   "source": [
    "### Check for Correlations in both numeric and categorical columns"
   ]
  },
  {
   "cell_type": "code",
   "execution_count": 25,
   "metadata": {},
   "outputs": [],
   "source": [
    "# Select the numeric columns\n",
    "numeric_subset = data.select_dtypes('int64')\n",
    "\n",
    "# Create columns with square root and log of numeric columns\n",
    "# We do this to account for non-linear relationships, if any. \n",
    "for col in numeric_subset.columns:\n",
    "    \n",
    "    # Skip the salary column\n",
    "    if col == 'salary':\n",
    "        next\n",
    "    else:\n",
    "        numeric_subset['sqrt_' + col] = np.sqrt(numeric_subset[col])\n",
    "        numeric_subset['log_' + col] = np.log(numeric_subset[col])\n",
    "\n",
    "# Select the categorical columns we are interested in\n",
    "categorical_subset = data[['companyId', 'jobType', 'degree', 'major', 'industry']]\n",
    "\n",
    "# One hot encode the categorical columns\n",
    "categorical_subset = pd.get_dummies(categorical_subset, drop_first=True)\n",
    "\n",
    "# Join the two dataframes (numerical and one hot encoded categorical columns) using concat\n",
    "# Make sure to use axis = 1 to perform a column bind\n",
    "features = pd.concat([numeric_subset, categorical_subset], axis = 1)\n",
    "\n",
    "# Drop buildings without a salary (sanity step)\n",
    "features = features.dropna(subset = ['salary'])\n",
    "\n",
    "# Find correlations with salary\n",
    "correlations = features.corr()['salary'].dropna().sort_values()"
   ]
  },
  {
   "cell_type": "code",
   "execution_count": 26,
   "metadata": {},
   "outputs": [
    {
     "name": "stdout",
     "output_type": "stream",
     "text": [
      "jobType_JANITOR            -0.441660\n",
      "major_NONE                 -0.371421\n",
      "milesFromMetropolis        -0.297666\n",
      "sqrt_milesFromMetropolis   -0.290945\n",
      "log_milesFromMetropolis    -0.265210\n",
      "degree_NONE                -0.257349\n",
      "degree_HIGH_SCHOOL         -0.203543\n",
      "jobType_JUNIOR             -0.201993\n",
      "industry_EDUCATION         -0.175148\n",
      "industry_SERVICE           -0.122361\n",
      "Name: salary, dtype: float64 \n",
      "\n",
      "industry_FINANCE        0.154847\n",
      "industry_OIL            0.156959\n",
      "degree_MASTERS          0.171992\n",
      "jobType_CFO             0.188804\n",
      "jobType_CTO             0.189600\n",
      "degree_DOCTORAL         0.231391\n",
      "log_yearsExperience     0.333969\n",
      "sqrt_yearsExperience    0.362920\n",
      "yearsExperience         0.375013\n",
      "salary                  1.000000\n",
      "Name: salary, dtype: float64\n"
     ]
    }
   ],
   "source": [
    "# Display most negative correlations\n",
    "print(correlations.head(10), '\\n')\n",
    "\n",
    "# Display most positive correlations\n",
    "print(correlations.tail(10))"
   ]
  },
  {
   "cell_type": "code",
   "execution_count": 27,
   "metadata": {},
   "outputs": [
    {
     "data": {
      "text/plain": [
       "(94,)"
      ]
     },
     "execution_count": 27,
     "metadata": {},
     "output_type": "execute_result"
    }
   ],
   "source": [
    "correlations.shape"
   ]
  },
  {
   "cell_type": "markdown",
   "metadata": {},
   "source": [
    "#### Observations\n",
    "- Being a janitor has the strongest negative correlation with salary, followed by have no major, distance a metropolis area and having no degree.\n",
    "- On the other hand, years of experience has the strongest positive correlation with a higher salary, followed closely by being a ceo. \n",
    "- Interestingly, being a CTO has a stonger positive correlation with a higher salary, compared to being a CFO. "
   ]
  },
  {
   "cell_type": "markdown",
   "metadata": {},
   "source": [
    "### Feature Engineering and Feature Selection"
   ]
  },
  {
   "cell_type": "code",
   "execution_count": 28,
   "metadata": {},
   "outputs": [],
   "source": [
    "# Remove highly correlated features\n",
    "def remove_collinear_features(x, threshold):\n",
    "    '''\n",
    "    Objective:\n",
    "        Remove collinear features in a dataframe with a correlation coefficient\n",
    "        greater than the threshold. Removing collinear features can help a model\n",
    "        to generalize and improves the interpretability of the model.\n",
    "        \n",
    "    Inputs: \n",
    "        threshold: any features with correlations greater than this value are removed\n",
    "    \n",
    "    Output: \n",
    "        dataframe that contains only the non-highly-collinear features\n",
    "    '''\n",
    "    \n",
    "    # Dont want to remove correlations between Salary\n",
    "    y = x['salary']\n",
    "    x = x.drop(columns = ['salary'])\n",
    "    \n",
    "    # Calculate the correlation matrix\n",
    "    corr_matrix = x.corr()\n",
    "    iters = range(len(corr_matrix.columns) - 1)\n",
    "    drop_cols = []\n",
    "\n",
    "    # Iterate through the correlation matrix and compare correlations\n",
    "    for i in iters:\n",
    "        for j in range(i):\n",
    "            item = corr_matrix.iloc[j:(j+1), (i+1):(i+2)]\n",
    "            col = item.columns\n",
    "            row = item.index\n",
    "            val = abs(item.values)\n",
    "            \n",
    "            # If correlation exceeds the threshold\n",
    "            if val >= threshold:\n",
    "                # Print the correlated features and the correlation value\n",
    "                print(col.values[0], \"|\", row.values[0], \"|\", round(val[0][0], 2))\n",
    "                drop_cols.append(col.values[0])\n",
    "\n",
    "    # Drop one of each pair of correlated columns\n",
    "    drops = set(drop_cols)\n",
    "    x = x.drop(columns = drops)\n",
    "    \n",
    "    \n",
    "    # Add the score back in to the data\n",
    "    x['salary'] = y\n",
    "               \n",
    "    return x"
   ]
  },
  {
   "cell_type": "code",
   "execution_count": 29,
   "metadata": {},
   "outputs": [
    {
     "name": "stdout",
     "output_type": "stream",
     "text": [
      "sqrt_yearsExperience | yearsExperience | 0.97\n",
      "log_yearsExperience | yearsExperience | 0.93\n",
      "sqrt_milesFromMetropolis | milesFromMetropolis | 0.98\n",
      "log_milesFromMetropolis | milesFromMetropolis | 0.9\n"
     ]
    }
   ],
   "source": [
    "# Remove the collinear features above a specified correlation coefficient\n",
    "features = remove_collinear_features(features, 0.6);"
   ]
  },
  {
   "cell_type": "code",
   "execution_count": 30,
   "metadata": {},
   "outputs": [
    {
     "data": {
      "text/plain": [
       "(1000000, 90)"
      ]
     },
     "execution_count": 30,
     "metadata": {},
     "output_type": "execute_result"
    }
   ],
   "source": [
    "# Remove any columns with all na values\n",
    "features  = features.dropna(axis=1, how = 'all')\n",
    "features.shape"
   ]
  },
  {
   "cell_type": "code",
   "execution_count": 31,
   "metadata": {},
   "outputs": [
    {
     "name": "stdout",
     "output_type": "stream",
     "text": [
      "<class 'pandas.core.frame.DataFrame'>\n",
      "Int64Index: 1000000 entries, 0 to 999999\n",
      "Data columns (total 90 columns):\n",
      " #   Column                  Non-Null Count    Dtype\n",
      "---  ------                  --------------    -----\n",
      " 0   yearsExperience         1000000 non-null  int64\n",
      " 1   milesFromMetropolis     1000000 non-null  int64\n",
      " 2   companyId_COMP1         1000000 non-null  uint8\n",
      " 3   companyId_COMP10        1000000 non-null  uint8\n",
      " 4   companyId_COMP11        1000000 non-null  uint8\n",
      " 5   companyId_COMP12        1000000 non-null  uint8\n",
      " 6   companyId_COMP13        1000000 non-null  uint8\n",
      " 7   companyId_COMP14        1000000 non-null  uint8\n",
      " 8   companyId_COMP15        1000000 non-null  uint8\n",
      " 9   companyId_COMP16        1000000 non-null  uint8\n",
      " 10  companyId_COMP17        1000000 non-null  uint8\n",
      " 11  companyId_COMP18        1000000 non-null  uint8\n",
      " 12  companyId_COMP19        1000000 non-null  uint8\n",
      " 13  companyId_COMP2         1000000 non-null  uint8\n",
      " 14  companyId_COMP20        1000000 non-null  uint8\n",
      " 15  companyId_COMP21        1000000 non-null  uint8\n",
      " 16  companyId_COMP22        1000000 non-null  uint8\n",
      " 17  companyId_COMP23        1000000 non-null  uint8\n",
      " 18  companyId_COMP24        1000000 non-null  uint8\n",
      " 19  companyId_COMP25        1000000 non-null  uint8\n",
      " 20  companyId_COMP26        1000000 non-null  uint8\n",
      " 21  companyId_COMP27        1000000 non-null  uint8\n",
      " 22  companyId_COMP28        1000000 non-null  uint8\n",
      " 23  companyId_COMP29        1000000 non-null  uint8\n",
      " 24  companyId_COMP3         1000000 non-null  uint8\n",
      " 25  companyId_COMP30        1000000 non-null  uint8\n",
      " 26  companyId_COMP31        1000000 non-null  uint8\n",
      " 27  companyId_COMP32        1000000 non-null  uint8\n",
      " 28  companyId_COMP33        1000000 non-null  uint8\n",
      " 29  companyId_COMP34        1000000 non-null  uint8\n",
      " 30  companyId_COMP35        1000000 non-null  uint8\n",
      " 31  companyId_COMP36        1000000 non-null  uint8\n",
      " 32  companyId_COMP37        1000000 non-null  uint8\n",
      " 33  companyId_COMP38        1000000 non-null  uint8\n",
      " 34  companyId_COMP39        1000000 non-null  uint8\n",
      " 35  companyId_COMP4         1000000 non-null  uint8\n",
      " 36  companyId_COMP40        1000000 non-null  uint8\n",
      " 37  companyId_COMP41        1000000 non-null  uint8\n",
      " 38  companyId_COMP42        1000000 non-null  uint8\n",
      " 39  companyId_COMP43        1000000 non-null  uint8\n",
      " 40  companyId_COMP44        1000000 non-null  uint8\n",
      " 41  companyId_COMP45        1000000 non-null  uint8\n",
      " 42  companyId_COMP46        1000000 non-null  uint8\n",
      " 43  companyId_COMP47        1000000 non-null  uint8\n",
      " 44  companyId_COMP48        1000000 non-null  uint8\n",
      " 45  companyId_COMP49        1000000 non-null  uint8\n",
      " 46  companyId_COMP5         1000000 non-null  uint8\n",
      " 47  companyId_COMP50        1000000 non-null  uint8\n",
      " 48  companyId_COMP51        1000000 non-null  uint8\n",
      " 49  companyId_COMP52        1000000 non-null  uint8\n",
      " 50  companyId_COMP53        1000000 non-null  uint8\n",
      " 51  companyId_COMP54        1000000 non-null  uint8\n",
      " 52  companyId_COMP55        1000000 non-null  uint8\n",
      " 53  companyId_COMP56        1000000 non-null  uint8\n",
      " 54  companyId_COMP57        1000000 non-null  uint8\n",
      " 55  companyId_COMP58        1000000 non-null  uint8\n",
      " 56  companyId_COMP59        1000000 non-null  uint8\n",
      " 57  companyId_COMP6         1000000 non-null  uint8\n",
      " 58  companyId_COMP60        1000000 non-null  uint8\n",
      " 59  companyId_COMP61        1000000 non-null  uint8\n",
      " 60  companyId_COMP62        1000000 non-null  uint8\n",
      " 61  companyId_COMP7         1000000 non-null  uint8\n",
      " 62  companyId_COMP8         1000000 non-null  uint8\n",
      " 63  companyId_COMP9         1000000 non-null  uint8\n",
      " 64  jobType_CFO             1000000 non-null  uint8\n",
      " 65  jobType_CTO             1000000 non-null  uint8\n",
      " 66  jobType_JANITOR         1000000 non-null  uint8\n",
      " 67  jobType_JUNIOR          1000000 non-null  uint8\n",
      " 68  jobType_MANAGER         1000000 non-null  uint8\n",
      " 69  jobType_SENIOR          1000000 non-null  uint8\n",
      " 70  jobType_VICE_PRESIDENT  1000000 non-null  uint8\n",
      " 71  degree_DOCTORAL         1000000 non-null  uint8\n",
      " 72  degree_HIGH_SCHOOL      1000000 non-null  uint8\n",
      " 73  degree_MASTERS          1000000 non-null  uint8\n",
      " 74  degree_NONE             1000000 non-null  uint8\n",
      " 75  major_BUSINESS          1000000 non-null  uint8\n",
      " 76  major_CHEMISTRY         1000000 non-null  uint8\n",
      " 77  major_COMPSCI           1000000 non-null  uint8\n",
      " 78  major_ENGINEERING       1000000 non-null  uint8\n",
      " 79  major_LITERATURE        1000000 non-null  uint8\n",
      " 80  major_MATH              1000000 non-null  uint8\n",
      " 81  major_NONE              1000000 non-null  uint8\n",
      " 82  major_PHYSICS           1000000 non-null  uint8\n",
      " 83  industry_EDUCATION      1000000 non-null  uint8\n",
      " 84  industry_FINANCE        1000000 non-null  uint8\n",
      " 85  industry_HEALTH         1000000 non-null  uint8\n",
      " 86  industry_OIL            1000000 non-null  uint8\n",
      " 87  industry_SERVICE        1000000 non-null  uint8\n",
      " 88  industry_WEB            1000000 non-null  uint8\n",
      " 89  salary                  1000000 non-null  int64\n",
      "dtypes: int64(3), uint8(87)\n",
      "memory usage: 113.5 MB\n"
     ]
    }
   ],
   "source": [
    "features.info()"
   ]
  },
  {
   "cell_type": "markdown",
   "metadata": {},
   "source": [
    "### Machine Learning"
   ]
  },
  {
   "cell_type": "code",
   "execution_count": 32,
   "metadata": {},
   "outputs": [],
   "source": [
    "# Splitting data into training and testing\n",
    "from sklearn.model_selection import train_test_split\n",
    "\n",
    "#Imputing missing values and scaling values\n",
    "from sklearn.impute import SimpleImputer as Imputer\n",
    "from sklearn.preprocessing import MinMaxScaler\n",
    "from sklearn.compose import TransformedTargetRegressor\n",
    "\n",
    "#ML\n",
    "from sklearn.ensemble import RandomForestRegressor, GradientBoostingRegressor\n",
    "from catboost import CatBoostRegressor, Pool\n",
    "from lightgbm import LGBMRegressor\n",
    "from xgboost import XGBRegressor\n",
    "\n",
    "from sklearn.linear_model import LinearRegression\n",
    "from sklearn.svm import SVR\n",
    "from sklearn.neighbors import KNeighborsRegressor\n",
    "\n",
    "#Metrics \n",
    "# from sklearn.metrics import mean_squared_error\n",
    "# from sklearn.metrics import r2_score\n",
    "\n",
    "#Hyperparameter tuning\n",
    "import optuna \n",
    "\n",
    "import math\n",
    "import time\n",
    "\n",
    "# This is nice handy constant to turn on and off the GPU. When `False`\n",
    "# the notebook will ignore the GPU even when present.\n",
    "GPU_ENABLED = True"
   ]
  },
  {
   "cell_type": "markdown",
   "metadata": {},
   "source": [
    "#### With Encoded Features"
   ]
  },
  {
   "cell_type": "code",
   "execution_count": 33,
   "metadata": {},
   "outputs": [
    {
     "name": "stdout",
     "output_type": "stream",
     "text": [
      "(670000, 89)\n",
      "(330000, 89)\n",
      "(670000, 1)\n",
      "(330000, 1)\n"
     ]
    }
   ],
   "source": [
    "# Seperate features and targets - Contains encoded features\n",
    "encoded_features = features.drop(columns='salary')\n",
    "encoded_targets = pd.DataFrame(features['salary'])\n",
    "\n",
    "# Split into 0.66% training and 0.33 validation set\n",
    "encoded_X, encoded_X_val, encoded_y, encoded_y_val = train_test_split(encoded_features, \n",
    "                                      encoded_targets, \n",
    "                                      test_size = 0.33, \n",
    "                                      random_state = 1)\n",
    "\n",
    "print(encoded_X.shape)\n",
    "print(encoded_X_val.shape)\n",
    "print(encoded_y.shape)\n",
    "print(encoded_y_val.shape)"
   ]
  },
  {
   "cell_type": "code",
   "execution_count": 34,
   "metadata": {},
   "outputs": [
    {
     "name": "stdout",
     "output_type": "stream",
     "text": [
      "The baseline guess is a score of 114.00\n",
      "Baseline Performance on the test set: RMSE = 38.78\n"
     ]
    }
   ],
   "source": [
    "# Create a Baseline\n",
    "#Metric: Root Mean Squared Error\n",
    "\n",
    "# Function to calculate root mean squared error. \n",
    "# This function calculates root mean squared errors between true values and predictions\n",
    "\n",
    "def rmse(y_true, y_pred):\n",
    "    mse = np.square(np.subtract(y_true,y_pred)).mean()\n",
    "    rmse = math.sqrt(abs(mse))\n",
    "    return rmse\n",
    "\n",
    "baseline = np.median(encoded_y)\n",
    "\n",
    "\n",
    "print('The baseline guess is a score of %0.2f' % baseline)\n",
    "print(\"Baseline Performance on the test set: RMSE = %0.2f\" % rmse(encoded_y_val, baseline))"
   ]
  },
  {
   "cell_type": "code",
   "execution_count": 35,
   "metadata": {},
   "outputs": [
    {
     "name": "stdout",
     "output_type": "stream",
     "text": [
      "\n",
      " Checking all data is finite\n",
      "------------------------------\n",
      "(array([], dtype=int64), array([], dtype=int64))\n",
      "(array([], dtype=int64), array([], dtype=int64))\n"
     ]
    }
   ],
   "source": [
    "print('\\n', 'Checking all data is finite')\n",
    "print('-' * 30)\n",
    "\n",
    "#Making sure all values are finite\n",
    "print (np.where(~np.isfinite(encoded_X)))\n",
    "print (np.where(~np.isfinite(encoded_X_val)))"
   ]
  },
  {
   "cell_type": "code",
   "execution_count": 36,
   "metadata": {},
   "outputs": [],
   "source": [
    "#Training, testing and evaluating a model\n",
    "def train_test_evaluate(model):\n",
    "    start = time.time()\n",
    "    \n",
    "    #Train   \n",
    "    \n",
    "    # # Normalizing the features so that different units do not affect the algorithms. \n",
    "    # While this process is not necessary for tree-based models, nevertheless, it is a good practice\n",
    "    model = TransformedTargetRegressor(regressor= model,\n",
    "                                        transformer = MinMaxScaler()\n",
    "                                        ).fit(encoded_X,encoded_y)\n",
    "    \n",
    "    \n",
    "    #Test\n",
    "    # Inverse transformation happens at this step\n",
    "    model_pred = model.predict(encoded_X_val)\n",
    "        \n",
    "    #Evaluate\n",
    "    model_rmse = rmse(encoded_y_val, model_pred)\n",
    "    \n",
    "    \n",
    "    end = time.time()\n",
    "    time_taken = end - start\n",
    "    \n",
    "    print('Time taken: %0.2f' %time_taken, 's.')\n",
    "    \n",
    "    #Return performance metric\n",
    "    return model_rmse"
   ]
  },
  {
   "cell_type": "markdown",
   "metadata": {},
   "source": [
    "#### Algorithms\n",
    "\n",
    "Running them in their default state"
   ]
  },
  {
   "cell_type": "code",
   "execution_count": 37,
   "metadata": {},
   "outputs": [],
   "source": [
    "# #Random Forest\n",
    "random_forest = RandomForestRegressor(random_state = 1,oob_score=True)\n",
    "random_forest_rmse = train_test_evaluate(random_forest)\n",
    "print ('Random Forest Root Mean Squared Error: %0.4f' %random_forest_rmse, '\\n')\n",
    "\n",
    "\n",
    "# # #Gradient Boosted Machines\n",
    "gradient_boosted = GradientBoostingRegressor(random_state = 1)\n",
    "gradient_boosted_rmse = train_test_evaluate(gradient_boosted)\n",
    "print ('Gradient Boosted Regression Root Mean Squared Error: %0.4f' %gradient_boosted_rmse, '\\n')\n",
    "\n",
    "# Light Gradient Boosted Machines\n",
    "lgbm_boosted = LGBMRegressor(random_state = 1)\n",
    "lgbm_boosted_rmse = train_test_evaluate(lgbm_boosted)\n",
    "print ('LGBM Boosted Regression Root Mean Squared Error: %0.4f' %lgbm_boosted_rmse, '\\n')\n",
    "\n",
    "# XGBoost\n",
    "xgb_boosted = XGBRegressor(random_state = 1)\n",
    "xgb_boosted_rmse = train_test_evaluate(xgb_boosted)\n",
    "print ('XGB Boosted Regression Root Mean Squared Error: %0.4f' %xgb_boosted_rmse, '\\n')\n",
    "\n",
    "cat_boosted = CatBoostRegressor(random_state = 1, \n",
    "                                verbose=False,\n",
    "                                task_type='CPU')\n",
    "cat_boosted_rmse = train_test_evaluate(cat_boosted)\n",
    "print ('Cat Boosted Regression Root Mean Squared Error: %0.4f' %cat_boosted_rmse, '\\n')\n",
    "\n",
    "#Linear Regression\n",
    "lr = LinearRegression()\n",
    "lr_rmse = train_test_evaluate(lr)\n",
    "print ('Linear Regression Root Mean Squared Error: %0.4f' %lr_rmse, '\\n')\n",
    "\n",
    "# #Support Vector Machines\n",
    "# svm = SVR(C = 1000, gamma = 0.1)\n",
    "# svm_rmse = train_test_evaluate(svm)\n",
    "# print ('SVM Root Root Mean Squared Error: %0.4f' %svm_rmse, '\\n')\n",
    "\n",
    "# #K-Nearest Neighbours                                                                                                                                                                                                                                                                                                                                                                                                                                                                                                 \n",
    "# knn = KNeighborsRegressor(n_neighbors = 10)\n",
    "# knn_rmse = train_test_evaluate(knn)\n",
    "# print ('K Nearest Neighbors Root Mean Squared Error: %0.4f' %knn_rmse)"
   ]
  },
  {
   "cell_type": "code",
   "execution_count": null,
   "metadata": {},
   "outputs": [
    {
     "name": "stdout",
     "output_type": "stream",
     "text": [
      "(670000, 7)\n",
      "(330000, 7)\n",
      "(670000, 1)\n",
      "(330000, 1)\n"
     ]
    }
   ],
   "source": [
    "# Seperate features and targets - Categorical features not encoded\n",
    "non_encoded_features = raw_features.drop(columns=['salary', 'jobId'])\n",
    "non_encoded_targets = pd.DataFrame(raw_features['salary'])\n",
    "\n",
    "# Split into 0.66% training and 0.33 validation set\n",
    "non_encoded_X, non_encoded_X_val, non_encoded_y, non_encoded_y_val = train_test_split(non_encoded_features, \n",
    "                                      non_encoded_targets, \n",
    "                                      test_size = 0.33, \n",
    "                                      random_state = 1)\n",
    "\n",
    "print(non_encoded_X.shape)\n",
    "print(non_encoded_X_val.shape)\n",
    "print(non_encoded_y.shape)\n",
    "print(non_encoded_y_val.shape)"
   ]
  },
  {
   "cell_type": "code",
   "execution_count": null,
   "metadata": {},
   "outputs": [
    {
     "data": {
      "application/vnd.jupyter.widget-view+json": {
       "model_id": "11f9cbc3e0e1443f93b91c3a146a8e9b",
       "version_major": 2,
       "version_minor": 0
      },
      "text/plain": [
       "MetricVisualizer(layout=Layout(align_self='stretch', height='500px'))"
      ]
     },
     "metadata": {},
     "output_type": "display_data"
    },
    {
     "name": "stdout",
     "output_type": "stream",
     "text": [
      "Best iteration:  791\n",
      "Time taken: 280.97 s.\n",
      "Cat Boosted Regression Root Mean Squared Error: 18.8306 \n",
      "\n"
     ]
    }
   ],
   "source": [
    "# CatBoosted with Cat features\n",
    "c_cat_boosted = CatBoostRegressor(loss_function='RMSE', \n",
    "                       random_state=1,\n",
    "                       verbose=False,\n",
    "                       task_type='CPU')\n",
    "\n",
    "pool_train = Pool(non_encoded_X, \n",
    "                  non_encoded_y, \n",
    "                  cat_features = ['industry', 'companyId', 'jobType', 'degree', 'major'])\n",
    "\n",
    "pool_val = Pool(non_encoded_X_val, \n",
    "                cat_features = ['industry', 'companyId', 'jobType', 'degree', 'major'])\n",
    "\n",
    "# eval_dataset = Pool(non_encoded_X_val, non_encoded_y_val)\n",
    "\n",
    "start = time.time()\n",
    "c_cat_boosted.fit(pool_train, \n",
    "                  eval_set=(non_encoded_X_val, non_encoded_y_val), \n",
    "                  early_stopping_rounds=791, plot=True)\n",
    "\n",
    "model_pred = c_cat_boosted.predict(pool_val)\n",
    "\n",
    "# Reshape preds so that eval works\n",
    "model_pred = model_pred.reshape(330000,1)\n",
    "\n",
    "# #Evaluate\n",
    "cat_cat_boosted_rmse = rmse(non_encoded_y_val, model_pred)\n",
    "\n",
    "end = time.time()\n",
    "\n",
    "time_taken = end - start\n",
    "\n",
    "print('Best iteration: ', c_cat_boosted.get_best_iteration())\n",
    "print('Time taken: %0.2f' %time_taken, 's.')\n",
    "print ('Cat Boosted Regression Root Mean Squared Error: %0.4f' %cat_cat_boosted_rmse, '\\n')"
   ]
  },
  {
   "cell_type": "code",
   "execution_count": null,
   "metadata": {},
   "outputs": [
    {
     "name": "stdout",
     "output_type": "stream",
     "text": [
      "Time taken: 2.57 s.\n",
      "LGBM Boosted Regression Root Mean Squared Error: 36.6132 \n",
      "\n"
     ]
    }
   ],
   "source": [
    "# LightBoosted with Cat Features\n",
    "c_lgbm_boosted = LGBMRegressor(boosting_type='gbdt', \n",
    "                             random_state = 1)\n",
    "\n",
    "for col in non_encoded_X.select_dtypes(include=['object']):\n",
    "    non_encoded_X[col] = non_encoded_X[col].astype('category')\n",
    "    \n",
    "for col in non_encoded_X_val.select_dtypes(include=['object']):\n",
    "    non_encoded_X_val[col] = non_encoded_X[col].astype('category')\n",
    "\n",
    "start = time.time() \n",
    "   \n",
    "c_lgbm_boosted.fit(non_encoded_X, non_encoded_y)\n",
    "model_pred = c_lgbm_boosted.predict(non_encoded_X_val)\n",
    "\n",
    "# Reshape preds so that eval works\n",
    "model_pred = model_pred.reshape(330000,1)\n",
    "\n",
    "#Evaluate\n",
    "cat_lgbm_boosted_rmse = rmse(non_encoded_y_val, model_pred)\n",
    "    \n",
    "end = time.time()\n",
    "time_taken = end - start\n",
    "\n",
    "print('Time taken: %0.2f' %time_taken, 's.')\n",
    "print ('LGBM Boosted Regression Root Mean Squared Error: %0.4f' %cat_lgbm_boosted_rmse, '\\n')\n",
    "\n"
   ]
  },
  {
   "cell_type": "code",
   "execution_count": null,
   "metadata": {},
   "outputs": [
    {
     "data": {
      "text/plain": [
       "Text(0.5, 1.0, 'Model Comparison on Test RMSE')"
      ]
     },
     "execution_count": 41,
     "metadata": {},
     "output_type": "execute_result"
    },
    {
     "data": {
      "image/png": "[encoded data removed]",
      "text/plain": [
       "<Figure size 576x432 with 1 Axes>"
      ]
     },
     "metadata": {},
     "output_type": "display_data"
    }
   ],
   "source": [
    "baseline_rmse = rmse(encoded_y_val, baseline)\n",
    "\n",
    "plt.style.use('seaborn')\n",
    "figsize(8, 6)\n",
    "\n",
    "#A dataframe to hold the results\n",
    "model_comparison = pd.DataFrame({'model': ['Random Forest', \n",
    "                                           'GBM', \n",
    "                                           'Light GBM', \n",
    "                                           'Categorical -  Light GBM',\n",
    "                                           'XGBoost', \n",
    "                                           'Cat_boosted', \n",
    "                                           'Categorical - Cat_boosted',\n",
    "                                           'Linear Regression', \n",
    "                                           'Baseline'],\n",
    "                                 \n",
    "                                'rmse': [random_forest_rmse, \n",
    "                                         gradient_boosted_rmse, \n",
    "                                         lgbm_boosted_rmse, \n",
    "                                         cat_lgbm_boosted_rmse,\n",
    "                                         xgb_boosted_rmse, \n",
    "                                         cat_boosted_rmse,\n",
    "                                         cat_cat_boosted_rmse,                                         \n",
    "                                         lr_rmse, baseline_rmse]})\n",
    "\n",
    "#Horizontal bar chart of MAE\n",
    "model_comparison.sort_values('rmse', ascending = True).plot(x = 'model', \n",
    "                                                           y = 'rmse', \n",
    "                                                           kind = 'barh')\n",
    "\n",
    "#Plot formatting\n",
    "plt.ylabel('Models', size = 14) \n",
    "plt.yticks(size = 12)\n",
    "plt.xlabel('Root Mean Squared Error')\n",
    "plt.xticks(size = 12)\n",
    "plt.title('Model Comparison on Test RMSE', size = 16)"
   ]
  },
  {
   "cell_type": "markdown",
   "metadata": {},
   "source": [
    "#### Observations\n",
    "\n",
    "- Transformed dataset (categorical features are one hot encoded) is fitted to 6 out of 8 models. \n",
    "- 2 models (SVR and KNN) were interrupted due to long run-times (> 6 hours).\n",
    "- Original dataset (including the categorical features) was directly fitted to 2 models (Cat Boosted and Light GBM).\n",
    "- The run time for all but random forest models is decent, taking an average of 3 minutes to complete. Random forest took approximately 19 minutes. \n",
    "- All the tested models beat the baseline RMSE.\n",
    "- Interestingly, linear regression performed better than light gbm on categorical features, random forest and gbm. \n",
    "- CatBoost model both with the original dataset and the transformed dataset has the least RMSE. \n",
    "- The models were used in their default settings. \n",
    "\n",
    "\n",
    "- **Next step**: Finetuning Categorical CatBoost."
   ]
  },
  {
   "cell_type": "markdown",
   "metadata": {},
   "source": [
    "### Finetuning CatBoost "
   ]
  },
  {
   "cell_type": "code",
   "execution_count": null,
   "metadata": {},
   "outputs": [
    {
     "data": {
      "text/plain": [
       "{'nan_mode': 'Min',\n",
       " 'eval_metric': 'RMSE',\n",
       " 'combinations_ctr': ['Borders:CtrBorderCount=15:CtrBorderType=Uniform:TargetBorderCount=1:TargetBorderType=MinEntropy:Prior=0/1:Prior=0.5/1:Prior=1/1',\n",
       "  'Counter:CtrBorderCount=15:CtrBorderType=Uniform:Prior=0/1'],\n",
       " 'iterations': 1000,\n",
       " 'sampling_frequency': 'PerTree',\n",
       " 'fold_permutation_block': 0,\n",
       " 'leaf_estimation_method': 'Newton',\n",
       " 'od_pval': 0,\n",
       " 'counter_calc_method': 'SkipTest',\n",
       " 'grow_policy': 'SymmetricTree',\n",
       " 'penalties_coefficient': 1,\n",
       " 'boosting_type': 'Plain',\n",
       " 'model_shrink_mode': 'Constant',\n",
       " 'feature_border_type': 'GreedyLogSum',\n",
       " 'ctr_leaf_count_limit': 18446744073709551615,\n",
       " 'bayesian_matrix_reg': 0.10000000149011612,\n",
       " 'one_hot_max_size': 2,\n",
       " 'force_unit_auto_pair_weights': False,\n",
       " 'l2_leaf_reg': 3,\n",
       " 'random_strength': 1,\n",
       " 'od_type': 'Iter',\n",
       " 'rsm': 1,\n",
       " 'boost_from_average': True,\n",
       " 'max_ctr_complexity': 4,\n",
       " 'model_size_reg': 0.5,\n",
       " 'simple_ctr': ['Borders:CtrBorderCount=15:CtrBorderType=Uniform:TargetBorderCount=1:TargetBorderType=MinEntropy:Prior=0/1:Prior=0.5/1:Prior=1/1',\n",
       "  'Counter:CtrBorderCount=15:CtrBorderType=Uniform:Prior=0/1'],\n",
       " 'pool_metainfo_options': {'tags': {}},\n",
       " 'subsample': 0.800000011920929,\n",
       " 'use_best_model': True,\n",
       " 'od_wait': 791,\n",
       " 'random_seed': 1,\n",
       " 'depth': 6,\n",
       " 'ctr_target_border_count': 1,\n",
       " 'posterior_sampling': False,\n",
       " 'has_time': False,\n",
       " 'store_all_simple_ctr': False,\n",
       " 'border_count': 254,\n",
       " 'classes_count': 0,\n",
       " 'auto_class_weights': 'None',\n",
       " 'sparse_features_conflict_fraction': 0,\n",
       " 'leaf_estimation_backtracking': 'AnyImprovement',\n",
       " 'best_model_min_trees': 1,\n",
       " 'model_shrink_rate': 0,\n",
       " 'min_data_in_leaf': 1,\n",
       " 'loss_function': 'RMSE',\n",
       " 'learning_rate': 0.14144599437713623,\n",
       " 'score_function': 'Cosine',\n",
       " 'task_type': 'CPU',\n",
       " 'leaf_estimation_iterations': 1,\n",
       " 'bootstrap_type': 'MVS',\n",
       " 'max_leaves': 64,\n",
       " 'permutation_count': 4}"
      ]
     },
     "execution_count": 42,
     "metadata": {},
     "output_type": "execute_result"
    }
   ],
   "source": [
    "# Current params\n",
    "c_cat_boosted.get_all_params()"
   ]
  },
  {
   "cell_type": "code",
   "execution_count": null,
   "metadata": {},
   "outputs": [
    {
     "name": "stdout",
     "output_type": "stream",
     "text": [
      "(670000, 7)\n",
      "(330000, 7)\n",
      "(670000, 1)\n",
      "(330000, 1)\n"
     ]
    }
   ],
   "source": [
    "# Reload data \n",
    "# Seperate features and targets - Categorical features not encoded\n",
    "non_encoded_features = raw_features.drop(columns=['salary', 'jobId'])\n",
    "non_encoded_targets = pd.DataFrame(raw_features['salary'])\n",
    "\n",
    "# Split into 0.66% training and 0.33 validation set\n",
    "non_encoded_X, non_encoded_X_val, non_encoded_y, non_encoded_y_val = train_test_split(non_encoded_features, \n",
    "                                      non_encoded_targets, \n",
    "                                      test_size = 0.33, \n",
    "                                      random_state = 1)\n",
    "\n",
    "print(non_encoded_X.shape)\n",
    "print(non_encoded_X_val.shape)\n",
    "print(non_encoded_y.shape)\n",
    "print(non_encoded_y_val.shape)"
   ]
  },
  {
   "cell_type": "code",
   "execution_count": null,
   "metadata": {},
   "outputs": [],
   "source": [
    "def finetuned_catboosted(X, y, X_test, y_test, model):\n",
    "    ''' \n",
    "        Driver function for categorical model fit, predict and eval \n",
    "    '''\n",
    "    # CatBoosted with Cat features\n",
    "    pool_train = Pool(X, y, \n",
    "                    cat_features = ['companyId', 'jobType', 'degree', 'major', 'industry'])\n",
    "\n",
    "    pool_val = Pool(non_encoded_X_val, \n",
    "                    cat_features = ['companyId', 'jobType', 'degree', 'major', 'industry'])\n",
    "\n",
    "    start = time.time()\n",
    "    model.fit(pool_train, \n",
    "                    eval_set=(X_test, y_test), \n",
    "                    early_stopping_rounds=791) # plot=True\n",
    "\n",
    "    model_pred = model.predict(pool_val)\n",
    "\n",
    "    # Reshape preds so that eval works\n",
    "    model_pred = model_pred.reshape(330000,1)\n",
    "\n",
    "    # #Evaluate\n",
    "    model_rmse = rmse(y_test, model_pred)\n",
    "\n",
    "    end = time.time()\n",
    "\n",
    "    time_taken = end - start\n",
    "\n",
    "    print('Time taken: %0.2f' %time_taken, 's.')\n",
    "    print ('Cat Boosted Regression Root Mean Squared Error: %0.4f' %model_rmse, '\\n')\n",
    "    \n",
    "    return model_rmse"
   ]
  },
  {
   "cell_type": "code",
   "execution_count": null,
   "metadata": {},
   "outputs": [],
   "source": [
    "def finetune_catboost(trial):\n",
    "    '''\n",
    "        Fine tune function to tune a `CatBoostRegressor` model.\n",
    "    '''\n",
    "\n",
    "    params = {\n",
    "        'learning_rate' : trial.suggest_uniform('learning_rate',0.01, 1),\n",
    "        'reg_lambda': trial.suggest_uniform('reg_lambda',1e-5,100),\n",
    "        'subsample': trial.suggest_uniform('subsample',0,1),\n",
    "        # Amount of randomness to use for scoring splits when the tree structure is selected\n",
    "        # Helps avoid overfitting.\n",
    "        'random_strength': trial.suggest_uniform('random_strength',10,50),\n",
    "        'depth': trial.suggest_int('depth',1, 15),\n",
    "        # Min number of training samples in leaf\n",
    "        'min_data_in_leaf': trial.suggest_int('min_data_in_leaf',1,30),\n",
    "        'leaf_estimation_iterations': trial.suggest_int('leaf_estimation_iterations',1,15),\n",
    "    }\n",
    "\n",
    "    if GPU_ENABLED:\n",
    "        params[\"task_type\"] = \"GPU\"\n",
    "        params[\"bootstrap_type\"] = \"Poisson\"\n",
    "\n",
    "    finetuned_c_cat_boosted = CatBoostRegressor(loss_function='RMSE', \n",
    "                       random_state=1,\n",
    "                       verbose=False, \n",
    "                       **params,)\n",
    "    \n",
    "    return finetuned_catboosted(non_encoded_X, \n",
    "                                non_encoded_y, \n",
    "                                non_encoded_X_val, \n",
    "                                non_encoded_y_val, \n",
    "                                finetuned_c_cat_boosted)"
   ]
  },
  {
   "cell_type": "code",
   "execution_count": null,
   "metadata": {},
   "outputs": [
    {
     "name": "stderr",
     "output_type": "stream",
     "text": [
      "\u001b[32m[I 2022-06-05 21:34:36,674]\u001b[0m A new study created in memory with name: no-name-e1b240ca-8908-4901-80f8-364877b455fa\u001b[0m\n"
     ]
    }
   ],
   "source": [
    "study_cat = optuna.create_study(direction=\"minimize\")\n",
    "study_cat.optimize(finetune_catboost, n_trials=100)\n",
    "study_cat.best_params"
   ]
  },
  {
   "cell_type": "code",
   "execution_count": null,
   "metadata": {},
   "outputs": [
    {
     "data": {
      "application/vnd.plotly.v1+json": {
       "config": {
        "plotlyServerURL": "https://plot.ly"
       },
       "data": [
        {
         "cliponaxis": false,
         "hovertemplate": [
          "subsample (UniformDistribution): 0.0298507462686567<extra></extra>",
          "random_strength (UniformDistribution): 0.13432835820895522<extra></extra>",
          "leaf_estimation_iterations (IntUniformDistribution): 0.14925373134328357<extra></extra>",
          "learning_rate (UniformDistribution): 0.15671641791044774<extra></extra>",
          "depth (IntUniformDistribution): 0.17164179104477612<extra></extra>",
          "min_data_in_leaf (IntUniformDistribution): 0.17910447761194026<extra></extra>",
          "reg_lambda (UniformDistribution): 0.17910447761194026<extra></extra>"
         ],
         "marker": {
          "color": "rgb(66,146,198)"
         },
         "orientation": "h",
         "text": [
          "0.0298507462686567",
          "0.13432835820895522",
          "0.14925373134328357",
          "0.15671641791044774",
          "0.17164179104477612",
          "0.17910447761194026",
          "0.17910447761194026"
         ],
         "textposition": "outside",
         "texttemplate": "%{text:.2f}",
         "type": "bar",
         "x": [
          0.0298507462686567,
          0.13432835820895522,
          0.14925373134328357,
          0.15671641791044774,
          0.17164179104477612,
          0.17910447761194026,
          0.17910447761194026
         ],
         "y": [
          "subsample",
          "random_strength",
          "leaf_estimation_iterations",
          "learning_rate",
          "depth",
          "min_data_in_leaf",
          "reg_lambda"
         ]
        }
       ],
       "layout": {
        "showlegend": false,
        "template": {
         "data": {
          "bar": [
           {
            "error_x": {
             "color": "#2a3f5f"
            },
            "error_y": {
             "color": "#2a3f5f"
            },
            "marker": {
             "line": {
              "color": "#E5ECF6",
              "width": 0.5
             },
             "pattern": {
              "fillmode": "overlay",
              "size": 10,
              "solidity": 0.2
             }
            },
            "type": "bar"
           }
          ],
          "barpolar": [
           {
            "marker": {
             "line": {
              "color": "#E5ECF6",
              "width": 0.5
             },
             "pattern": {
              "fillmode": "overlay",
              "size": 10,
              "solidity": 0.2
             }
            },
            "type": "barpolar"
           }
          ],
          "carpet": [
           {
            "aaxis": {
             "endlinecolor": "#2a3f5f",
             "gridcolor": "white",
             "linecolor": "white",
             "minorgridcolor": "white",
             "startlinecolor": "#2a3f5f"
            },
            "baxis": {
             "endlinecolor": "#2a3f5f",
             "gridcolor": "white",
             "linecolor": "white",
             "minorgridcolor": "white",
             "startlinecolor": "#2a3f5f"
            },
            "type": "carpet"
           }
          ],
          "choropleth": [
           {
            "colorbar": {
             "outlinewidth": 0,
             "ticks": ""
            },
            "type": "choropleth"
           }
          ],
          "contour": [
           {
            "colorbar": {
             "outlinewidth": 0,
             "ticks": ""
            },
            "colorscale": [
             [
              0,
              "#0d0887"
             ],
             [
              0.1111111111111111,
              "#46039f"
             ],
             [
              0.2222222222222222,
              "#7201a8"
             ],
             [
              0.3333333333333333,
              "#9c179e"
             ],
             [
              0.4444444444444444,
              "#bd3786"
             ],
             [
              0.5555555555555556,
              "#d8576b"
             ],
             [
              0.6666666666666666,
              "#ed7953"
             ],
             [
              0.7777777777777778,
              "#fb9f3a"
             ],
             [
              0.8888888888888888,
              "#fdca26"
             ],
             [
              1,
              "#f0f921"
             ]
            ],
            "type": "contour"
           }
          ],
          "contourcarpet": [
           {
            "colorbar": {
             "outlinewidth": 0,
             "ticks": ""
            },
            "type": "contourcarpet"
           }
          ],
          "heatmap": [
           {
            "colorbar": {
             "outlinewidth": 0,
             "ticks": ""
            },
            "colorscale": [
             [
              0,
              "#0d0887"
             ],
             [
              0.1111111111111111,
              "#46039f"
             ],
             [
              0.2222222222222222,
              "#7201a8"
             ],
             [
              0.3333333333333333,
              "#9c179e"
             ],
             [
              0.4444444444444444,
              "#bd3786"
             ],
             [
              0.5555555555555556,
              "#d8576b"
             ],
             [
              0.6666666666666666,
              "#ed7953"
             ],
             [
              0.7777777777777778,
              "#fb9f3a"
             ],
             [
              0.8888888888888888,
              "#fdca26"
             ],
             [
              1,
              "#f0f921"
             ]
            ],
            "type": "heatmap"
           }
          ],
          "heatmapgl": [
           {
            "colorbar": {
             "outlinewidth": 0,
             "ticks": ""
            },
            "colorscale": [
             [
              0,
              "#0d0887"
             ],
             [
              0.1111111111111111,
              "#46039f"
             ],
             [
              0.2222222222222222,
              "#7201a8"
             ],
             [
              0.3333333333333333,
              "#9c179e"
             ],
             [
              0.4444444444444444,
              "#bd3786"
             ],
             [
              0.5555555555555556,
              "#d8576b"
             ],
             [
              0.6666666666666666,
              "#ed7953"
             ],
             [
              0.7777777777777778,
              "#fb9f3a"
             ],
             [
              0.8888888888888888,
              "#fdca26"
             ],
             [
              1,
              "#f0f921"
             ]
            ],
            "type": "heatmapgl"
           }
          ],
          "histogram": [
           {
            "marker": {
             "pattern": {
              "fillmode": "overlay",
              "size": 10,
              "solidity": 0.2
             }
            },
            "type": "histogram"
           }
          ],
          "histogram2d": [
           {
            "colorbar": {
             "outlinewidth": 0,
             "ticks": ""
            },
            "colorscale": [
             [
              0,
              "#0d0887"
             ],
             [
              0.1111111111111111,
              "#46039f"
             ],
             [
              0.2222222222222222,
              "#7201a8"
             ],
             [
              0.3333333333333333,
              "#9c179e"
             ],
             [
              0.4444444444444444,
              "#bd3786"
             ],
             [
              0.5555555555555556,
              "#d8576b"
             ],
             [
              0.6666666666666666,
              "#ed7953"
             ],
             [
              0.7777777777777778,
              "#fb9f3a"
             ],
             [
              0.8888888888888888,
              "#fdca26"
             ],
             [
              1,
              "#f0f921"
             ]
            ],
            "type": "histogram2d"
           }
          ],
          "histogram2dcontour": [
           {
            "colorbar": {
             "outlinewidth": 0,
             "ticks": ""
            },
            "colorscale": [
             [
              0,
              "#0d0887"
             ],
             [
              0.1111111111111111,
              "#46039f"
             ],
             [
              0.2222222222222222,
              "#7201a8"
             ],
             [
              0.3333333333333333,
              "#9c179e"
             ],
             [
              0.4444444444444444,
              "#bd3786"
             ],
             [
              0.5555555555555556,
              "#d8576b"
             ],
             [
              0.6666666666666666,
              "#ed7953"
             ],
             [
              0.7777777777777778,
              "#fb9f3a"
             ],
             [
              0.8888888888888888,
              "#fdca26"
             ],
             [
              1,
              "#f0f921"
             ]
            ],
            "type": "histogram2dcontour"
           }
          ],
          "mesh3d": [
           {
            "colorbar": {
             "outlinewidth": 0,
             "ticks": ""
            },
            "type": "mesh3d"
           }
          ],
          "parcoords": [
           {
            "line": {
             "colorbar": {
              "outlinewidth": 0,
              "ticks": ""
             }
            },
            "type": "parcoords"
           }
          ],
          "pie": [
           {
            "automargin": true,
            "type": "pie"
           }
          ],
          "scatter": [
           {
            "fillpattern": {
             "fillmode": "overlay",
             "size": 10,
             "solidity": 0.2
            },
            "type": "scatter"
           }
          ],
          "scatter3d": [
           {
            "line": {
             "colorbar": {
              "outlinewidth": 0,
              "ticks": ""
             }
            },
            "marker": {
             "colorbar": {
              "outlinewidth": 0,
              "ticks": ""
             }
            },
            "type": "scatter3d"
           }
          ],
          "scattercarpet": [
           {
            "marker": {
             "colorbar": {
              "outlinewidth": 0,
              "ticks": ""
             }
            },
            "type": "scattercarpet"
           }
          ],
          "scattergeo": [
           {
            "marker": {
             "colorbar": {
              "outlinewidth": 0,
              "ticks": ""
             }
            },
            "type": "scattergeo"
           }
          ],
          "scattergl": [
           {
            "marker": {
             "colorbar": {
              "outlinewidth": 0,
              "ticks": ""
             }
            },
            "type": "scattergl"
           }
          ],
          "scattermapbox": [
           {
            "marker": {
             "colorbar": {
              "outlinewidth": 0,
              "ticks": ""
             }
            },
            "type": "scattermapbox"
           }
          ],
          "scatterpolar": [
           {
            "marker": {
             "colorbar": {
              "outlinewidth": 0,
              "ticks": ""
             }
            },
            "type": "scatterpolar"
           }
          ],
          "scatterpolargl": [
           {
            "marker": {
             "colorbar": {
              "outlinewidth": 0,
              "ticks": ""
             }
            },
            "type": "scatterpolargl"
           }
          ],
          "scatterternary": [
           {
            "marker": {
             "colorbar": {
              "outlinewidth": 0,
              "ticks": ""
             }
            },
            "type": "scatterternary"
           }
          ],
          "surface": [
           {
            "colorbar": {
             "outlinewidth": 0,
             "ticks": ""
            },
            "colorscale": [
             [
              0,
              "#0d0887"
             ],
             [
              0.1111111111111111,
              "#46039f"
             ],
             [
              0.2222222222222222,
              "#7201a8"
             ],
             [
              0.3333333333333333,
              "#9c179e"
             ],
             [
              0.4444444444444444,
              "#bd3786"
             ],
             [
              0.5555555555555556,
              "#d8576b"
             ],
             [
              0.6666666666666666,
              "#ed7953"
             ],
             [
              0.7777777777777778,
              "#fb9f3a"
             ],
             [
              0.8888888888888888,
              "#fdca26"
             ],
             [
              1,
              "#f0f921"
             ]
            ],
            "type": "surface"
           }
          ],
          "table": [
           {
            "cells": {
             "fill": {
              "color": "#EBF0F8"
             },
             "line": {
              "color": "white"
             }
            },
            "header": {
             "fill": {
              "color": "#C8D4E3"
             },
             "line": {
              "color": "white"
             }
            },
            "type": "table"
           }
          ]
         },
         "layout": {
          "annotationdefaults": {
           "arrowcolor": "#2a3f5f",
           "arrowhead": 0,
           "arrowwidth": 1
          },
          "autotypenumbers": "strict",
          "coloraxis": {
           "colorbar": {
            "outlinewidth": 0,
            "ticks": ""
           }
          },
          "colorscale": {
           "diverging": [
            [
             0,
             "#8e0152"
            ],
            [
             0.1,
             "#c51b7d"
            ],
            [
             0.2,
             "#de77ae"
            ],
            [
             0.3,
             "#f1b6da"
            ],
            [
             0.4,
             "#fde0ef"
            ],
            [
             0.5,
             "#f7f7f7"
            ],
            [
             0.6,
             "#e6f5d0"
            ],
            [
             0.7,
             "#b8e186"
            ],
            [
             0.8,
             "#7fbc41"
            ],
            [
             0.9,
             "#4d9221"
            ],
            [
             1,
             "#276419"
            ]
           ],
           "sequential": [
            [
             0,
             "#0d0887"
            ],
            [
             0.1111111111111111,
             "#46039f"
            ],
            [
             0.2222222222222222,
             "#7201a8"
            ],
            [
             0.3333333333333333,
             "#9c179e"
            ],
            [
             0.4444444444444444,
             "#bd3786"
            ],
            [
             0.5555555555555556,
             "#d8576b"
            ],
            [
             0.6666666666666666,
             "#ed7953"
            ],
            [
             0.7777777777777778,
             "#fb9f3a"
            ],
            [
             0.8888888888888888,
             "#fdca26"
            ],
            [
             1,
             "#f0f921"
            ]
           ],
           "sequentialminus": [
            [
             0,
             "#0d0887"
            ],
            [
             0.1111111111111111,
             "#46039f"
            ],
            [
             0.2222222222222222,
             "#7201a8"
            ],
            [
             0.3333333333333333,
             "#9c179e"
            ],
            [
             0.4444444444444444,
             "#bd3786"
            ],
            [
             0.5555555555555556,
             "#d8576b"
            ],
            [
             0.6666666666666666,
             "#ed7953"
            ],
            [
             0.7777777777777778,
             "#fb9f3a"
            ],
            [
             0.8888888888888888,
             "#fdca26"
            ],
            [
             1,
             "#f0f921"
            ]
           ]
          },
          "colorway": [
           "#636efa",
           "#EF553B",
           "#00cc96",
           "#ab63fa",
           "#FFA15A",
           "#19d3f3",
           "#FF6692",
           "#B6E880",
           "#FF97FF",
           "#FECB52"
          ],
          "font": {
           "color": "#2a3f5f"
          },
          "geo": {
           "bgcolor": "white",
           "lakecolor": "white",
           "landcolor": "#E5ECF6",
           "showlakes": true,
           "showland": true,
           "subunitcolor": "white"
          },
          "hoverlabel": {
           "align": "left"
          },
          "hovermode": "closest",
          "mapbox": {
           "style": "light"
          },
          "paper_bgcolor": "white",
          "plot_bgcolor": "#E5ECF6",
          "polar": {
           "angularaxis": {
            "gridcolor": "white",
            "linecolor": "white",
            "ticks": ""
           },
           "bgcolor": "#E5ECF6",
           "radialaxis": {
            "gridcolor": "white",
            "linecolor": "white",
            "ticks": ""
           }
          },
          "scene": {
           "xaxis": {
            "backgroundcolor": "#E5ECF6",
            "gridcolor": "white",
            "gridwidth": 2,
            "linecolor": "white",
            "showbackground": true,
            "ticks": "",
            "zerolinecolor": "white"
           },
           "yaxis": {
            "backgroundcolor": "#E5ECF6",
            "gridcolor": "white",
            "gridwidth": 2,
            "linecolor": "white",
            "showbackground": true,
            "ticks": "",
            "zerolinecolor": "white"
           },
           "zaxis": {
            "backgroundcolor": "#E5ECF6",
            "gridcolor": "white",
            "gridwidth": 2,
            "linecolor": "white",
            "showbackground": true,
            "ticks": "",
            "zerolinecolor": "white"
           }
          },
          "shapedefaults": {
           "line": {
            "color": "#2a3f5f"
           }
          },
          "ternary": {
           "aaxis": {
            "gridcolor": "white",
            "linecolor": "white",
            "ticks": ""
           },
           "baxis": {
            "gridcolor": "white",
            "linecolor": "white",
            "ticks": ""
           },
           "bgcolor": "#E5ECF6",
           "caxis": {
            "gridcolor": "white",
            "linecolor": "white",
            "ticks": ""
           }
          },
          "title": {
           "x": 0.05
          },
          "xaxis": {
           "automargin": true,
           "gridcolor": "white",
           "linecolor": "white",
           "ticks": "",
           "title": {
            "standoff": 15
           },
           "zerolinecolor": "white",
           "zerolinewidth": 2
          },
          "yaxis": {
           "automargin": true,
           "gridcolor": "white",
           "linecolor": "white",
           "ticks": "",
           "title": {
            "standoff": 15
           },
           "zerolinecolor": "white",
           "zerolinewidth": 2
          }
         }
        },
        "title": {
         "text": "Hyperparameter Importances"
        },
        "xaxis": {
         "title": {
          "text": "Importance for Objective Value"
         }
        },
        "yaxis": {
         "title": {
          "text": "Hyperparameter"
         }
        }
       }
      }
     },
     "metadata": {},
     "output_type": "display_data"
    }
   ],
   "source": [
    "#Hyper-parameter Importance\n",
    "optuna.visualization.plot_param_importances(study_cat)"
   ]
  },
  {
   "cell_type": "code",
   "execution_count": null,
   "metadata": {},
   "outputs": [
    {
     "data": {
      "application/vnd.plotly.v1+json": {
       "config": {
        "plotlyServerURL": "https://plot.ly"
       },
       "data": [
        {
         "marker": {
          "color": [
           0,
           1
          ],
          "colorbar": {
           "title": {
            "text": "#Trials"
           },
           "x": 1,
           "xpad": 40
          },
          "colorscale": [
           [
            0,
            "rgb(247,251,255)"
           ],
           [
            0.125,
            "rgb(222,235,247)"
           ],
           [
            0.25,
            "rgb(198,219,239)"
           ],
           [
            0.375,
            "rgb(158,202,225)"
           ],
           [
            0.5,
            "rgb(107,174,214)"
           ],
           [
            0.625,
            "rgb(66,146,198)"
           ],
           [
            0.75,
            "rgb(33,113,181)"
           ],
           [
            0.875,
            "rgb(8,81,156)"
           ],
           [
            1,
            "rgb(8,48,107)"
           ]
          ],
          "line": {
           "color": "Grey",
           "width": 0.5
          },
          "showscale": true
         },
         "mode": "markers",
         "showlegend": false,
         "type": "scatter",
         "x": [
          8,
          14
         ],
         "xaxis": "x",
         "y": [
          18.85765797023965,
          30.114139622535426
         ],
         "yaxis": "y"
        },
        {
         "marker": {
          "color": [
           0,
           1
          ],
          "colorbar": {
           "title": {
            "text": "#Trials"
           },
           "x": 1,
           "xpad": 40
          },
          "colorscale": [
           [
            0,
            "rgb(247,251,255)"
           ],
           [
            0.125,
            "rgb(222,235,247)"
           ],
           [
            0.25,
            "rgb(198,219,239)"
           ],
           [
            0.375,
            "rgb(158,202,225)"
           ],
           [
            0.5,
            "rgb(107,174,214)"
           ],
           [
            0.625,
            "rgb(66,146,198)"
           ],
           [
            0.75,
            "rgb(33,113,181)"
           ],
           [
            0.875,
            "rgb(8,81,156)"
           ],
           [
            1,
            "rgb(8,48,107)"
           ]
          ],
          "line": {
           "color": "Grey",
           "width": 0.5
          },
          "showscale": false
         },
         "mode": "markers",
         "showlegend": false,
         "type": "scatter",
         "x": [
          10,
          8
         ],
         "xaxis": "x2",
         "y": [
          18.85765797023965,
          30.114139622535426
         ],
         "yaxis": "y2"
        },
        {
         "marker": {
          "color": [
           0,
           1
          ],
          "colorbar": {
           "title": {
            "text": "#Trials"
           },
           "x": 1,
           "xpad": 40
          },
          "colorscale": [
           [
            0,
            "rgb(247,251,255)"
           ],
           [
            0.125,
            "rgb(222,235,247)"
           ],
           [
            0.25,
            "rgb(198,219,239)"
           ],
           [
            0.375,
            "rgb(158,202,225)"
           ],
           [
            0.5,
            "rgb(107,174,214)"
           ],
           [
            0.625,
            "rgb(66,146,198)"
           ],
           [
            0.75,
            "rgb(33,113,181)"
           ],
           [
            0.875,
            "rgb(8,81,156)"
           ],
           [
            1,
            "rgb(8,48,107)"
           ]
          ],
          "line": {
           "color": "Grey",
           "width": 0.5
          },
          "showscale": false
         },
         "mode": "markers",
         "showlegend": false,
         "type": "scatter",
         "x": [
          0.17373262129807968,
          0.6387817189571365
         ],
         "xaxis": "x3",
         "y": [
          18.85765797023965,
          30.114139622535426
         ],
         "yaxis": "y3"
        },
        {
         "marker": {
          "color": [
           0,
           1
          ],
          "colorbar": {
           "title": {
            "text": "#Trials"
           },
           "x": 1,
           "xpad": 40
          },
          "colorscale": [
           [
            0,
            "rgb(247,251,255)"
           ],
           [
            0.125,
            "rgb(222,235,247)"
           ],
           [
            0.25,
            "rgb(198,219,239)"
           ],
           [
            0.375,
            "rgb(158,202,225)"
           ],
           [
            0.5,
            "rgb(107,174,214)"
           ],
           [
            0.625,
            "rgb(66,146,198)"
           ],
           [
            0.75,
            "rgb(33,113,181)"
           ],
           [
            0.875,
            "rgb(8,81,156)"
           ],
           [
            1,
            "rgb(8,48,107)"
           ]
          ],
          "line": {
           "color": "Grey",
           "width": 0.5
          },
          "showscale": false
         },
         "mode": "markers",
         "showlegend": false,
         "type": "scatter",
         "x": [
          3,
          6
         ],
         "xaxis": "x4",
         "y": [
          18.85765797023965,
          30.114139622535426
         ],
         "yaxis": "y4"
        },
        {
         "marker": {
          "color": [
           0,
           1
          ],
          "colorbar": {
           "title": {
            "text": "#Trials"
           },
           "x": 1,
           "xpad": 40
          },
          "colorscale": [
           [
            0,
            "rgb(247,251,255)"
           ],
           [
            0.125,
            "rgb(222,235,247)"
           ],
           [
            0.25,
            "rgb(198,219,239)"
           ],
           [
            0.375,
            "rgb(158,202,225)"
           ],
           [
            0.5,
            "rgb(107,174,214)"
           ],
           [
            0.625,
            "rgb(66,146,198)"
           ],
           [
            0.75,
            "rgb(33,113,181)"
           ],
           [
            0.875,
            "rgb(8,81,156)"
           ],
           [
            1,
            "rgb(8,48,107)"
           ]
          ],
          "line": {
           "color": "Grey",
           "width": 0.5
          },
          "showscale": false
         },
         "mode": "markers",
         "showlegend": false,
         "type": "scatter",
         "x": [
          47.18566666142012,
          15.348014983430502
         ],
         "xaxis": "x5",
         "y": [
          18.85765797023965,
          30.114139622535426
         ],
         "yaxis": "y5"
        },
        {
         "marker": {
          "color": [
           0,
           1
          ],
          "colorbar": {
           "title": {
            "text": "#Trials"
           },
           "x": 1,
           "xpad": 40
          },
          "colorscale": [
           [
            0,
            "rgb(247,251,255)"
           ],
           [
            0.125,
            "rgb(222,235,247)"
           ],
           [
            0.25,
            "rgb(198,219,239)"
           ],
           [
            0.375,
            "rgb(158,202,225)"
           ],
           [
            0.5,
            "rgb(107,174,214)"
           ],
           [
            0.625,
            "rgb(66,146,198)"
           ],
           [
            0.75,
            "rgb(33,113,181)"
           ],
           [
            0.875,
            "rgb(8,81,156)"
           ],
           [
            1,
            "rgb(8,48,107)"
           ]
          ],
          "line": {
           "color": "Grey",
           "width": 0.5
          },
          "showscale": false
         },
         "mode": "markers",
         "showlegend": false,
         "type": "scatter",
         "x": [
          52.90977924059571,
          3.0931963672843983
         ],
         "xaxis": "x6",
         "y": [
          18.85765797023965,
          30.114139622535426
         ],
         "yaxis": "y6"
        },
        {
         "marker": {
          "color": [
           0,
           1
          ],
          "colorbar": {
           "title": {
            "text": "#Trials"
           },
           "x": 1,
           "xpad": 40
          },
          "colorscale": [
           [
            0,
            "rgb(247,251,255)"
           ],
           [
            0.125,
            "rgb(222,235,247)"
           ],
           [
            0.25,
            "rgb(198,219,239)"
           ],
           [
            0.375,
            "rgb(158,202,225)"
           ],
           [
            0.5,
            "rgb(107,174,214)"
           ],
           [
            0.625,
            "rgb(66,146,198)"
           ],
           [
            0.75,
            "rgb(33,113,181)"
           ],
           [
            0.875,
            "rgb(8,81,156)"
           ],
           [
            1,
            "rgb(8,48,107)"
           ]
          ],
          "line": {
           "color": "Grey",
           "width": 0.5
          },
          "showscale": false
         },
         "mode": "markers",
         "showlegend": false,
         "type": "scatter",
         "x": [
          0.8821880797148373,
          0.6213487829296842
         ],
         "xaxis": "x7",
         "y": [
          18.85765797023965,
          30.114139622535426
         ],
         "yaxis": "y7"
        }
       ],
       "layout": {
        "template": {
         "data": {
          "bar": [
           {
            "error_x": {
             "color": "#2a3f5f"
            },
            "error_y": {
             "color": "#2a3f5f"
            },
            "marker": {
             "line": {
              "color": "#E5ECF6",
              "width": 0.5
             },
             "pattern": {
              "fillmode": "overlay",
              "size": 10,
              "solidity": 0.2
             }
            },
            "type": "bar"
           }
          ],
          "barpolar": [
           {
            "marker": {
             "line": {
              "color": "#E5ECF6",
              "width": 0.5
             },
             "pattern": {
              "fillmode": "overlay",
              "size": 10,
              "solidity": 0.2
             }
            },
            "type": "barpolar"
           }
          ],
          "carpet": [
           {
            "aaxis": {
             "endlinecolor": "#2a3f5f",
             "gridcolor": "white",
             "linecolor": "white",
             "minorgridcolor": "white",
             "startlinecolor": "#2a3f5f"
            },
            "baxis": {
             "endlinecolor": "#2a3f5f",
             "gridcolor": "white",
             "linecolor": "white",
             "minorgridcolor": "white",
             "startlinecolor": "#2a3f5f"
            },
            "type": "carpet"
           }
          ],
          "choropleth": [
           {
            "colorbar": {
             "outlinewidth": 0,
             "ticks": ""
            },
            "type": "choropleth"
           }
          ],
          "contour": [
           {
            "colorbar": {
             "outlinewidth": 0,
             "ticks": ""
            },
            "colorscale": [
             [
              0,
              "#0d0887"
             ],
             [
              0.1111111111111111,
              "#46039f"
             ],
             [
              0.2222222222222222,
              "#7201a8"
             ],
             [
              0.3333333333333333,
              "#9c179e"
             ],
             [
              0.4444444444444444,
              "#bd3786"
             ],
             [
              0.5555555555555556,
              "#d8576b"
             ],
             [
              0.6666666666666666,
              "#ed7953"
             ],
             [
              0.7777777777777778,
              "#fb9f3a"
             ],
             [
              0.8888888888888888,
              "#fdca26"
             ],
             [
              1,
              "#f0f921"
             ]
            ],
            "type": "contour"
           }
          ],
          "contourcarpet": [
           {
            "colorbar": {
             "outlinewidth": 0,
             "ticks": ""
            },
            "type": "contourcarpet"
           }
          ],
          "heatmap": [
           {
            "colorbar": {
             "outlinewidth": 0,
             "ticks": ""
            },
            "colorscale": [
             [
              0,
              "#0d0887"
             ],
             [
              0.1111111111111111,
              "#46039f"
             ],
             [
              0.2222222222222222,
              "#7201a8"
             ],
             [
              0.3333333333333333,
              "#9c179e"
             ],
             [
              0.4444444444444444,
              "#bd3786"
             ],
             [
              0.5555555555555556,
              "#d8576b"
             ],
             [
              0.6666666666666666,
              "#ed7953"
             ],
             [
              0.7777777777777778,
              "#fb9f3a"
             ],
             [
              0.8888888888888888,
              "#fdca26"
             ],
             [
              1,
              "#f0f921"
             ]
            ],
            "type": "heatmap"
           }
          ],
          "heatmapgl": [
           {
            "colorbar": {
             "outlinewidth": 0,
             "ticks": ""
            },
            "colorscale": [
             [
              0,
              "#0d0887"
             ],
             [
              0.1111111111111111,
              "#46039f"
             ],
             [
              0.2222222222222222,
              "#7201a8"
             ],
             [
              0.3333333333333333,
              "#9c179e"
             ],
             [
              0.4444444444444444,
              "#bd3786"
             ],
             [
              0.5555555555555556,
              "#d8576b"
             ],
             [
              0.6666666666666666,
              "#ed7953"
             ],
             [
              0.7777777777777778,
              "#fb9f3a"
             ],
             [
              0.8888888888888888,
              "#fdca26"
             ],
             [
              1,
              "#f0f921"
             ]
            ],
            "type": "heatmapgl"
           }
          ],
          "histogram": [
           {
            "marker": {
             "pattern": {
              "fillmode": "overlay",
              "size": 10,
              "solidity": 0.2
             }
            },
            "type": "histogram"
           }
          ],
          "histogram2d": [
           {
            "colorbar": {
             "outlinewidth": 0,
             "ticks": ""
            },
            "colorscale": [
             [
              0,
              "#0d0887"
             ],
             [
              0.1111111111111111,
              "#46039f"
             ],
             [
              0.2222222222222222,
              "#7201a8"
             ],
             [
              0.3333333333333333,
              "#9c179e"
             ],
             [
              0.4444444444444444,
              "#bd3786"
             ],
             [
              0.5555555555555556,
              "#d8576b"
             ],
             [
              0.6666666666666666,
              "#ed7953"
             ],
             [
              0.7777777777777778,
              "#fb9f3a"
             ],
             [
              0.8888888888888888,
              "#fdca26"
             ],
             [
              1,
              "#f0f921"
             ]
            ],
            "type": "histogram2d"
           }
          ],
          "histogram2dcontour": [
           {
            "colorbar": {
             "outlinewidth": 0,
             "ticks": ""
            },
            "colorscale": [
             [
              0,
              "#0d0887"
             ],
             [
              0.1111111111111111,
              "#46039f"
             ],
             [
              0.2222222222222222,
              "#7201a8"
             ],
             [
              0.3333333333333333,
              "#9c179e"
             ],
             [
              0.4444444444444444,
              "#bd3786"
             ],
             [
              0.5555555555555556,
              "#d8576b"
             ],
             [
              0.6666666666666666,
              "#ed7953"
             ],
             [
              0.7777777777777778,
              "#fb9f3a"
             ],
             [
              0.8888888888888888,
              "#fdca26"
             ],
             [
              1,
              "#f0f921"
             ]
            ],
            "type": "histogram2dcontour"
           }
          ],
          "mesh3d": [
           {
            "colorbar": {
             "outlinewidth": 0,
             "ticks": ""
            },
            "type": "mesh3d"
           }
          ],
          "parcoords": [
           {
            "line": {
             "colorbar": {
              "outlinewidth": 0,
              "ticks": ""
             }
            },
            "type": "parcoords"
           }
          ],
          "pie": [
           {
            "automargin": true,
            "type": "pie"
           }
          ],
          "scatter": [
           {
            "fillpattern": {
             "fillmode": "overlay",
             "size": 10,
             "solidity": 0.2
            },
            "type": "scatter"
           }
          ],
          "scatter3d": [
           {
            "line": {
             "colorbar": {
              "outlinewidth": 0,
              "ticks": ""
             }
            },
            "marker": {
             "colorbar": {
              "outlinewidth": 0,
              "ticks": ""
             }
            },
            "type": "scatter3d"
           }
          ],
          "scattercarpet": [
           {
            "marker": {
             "colorbar": {
              "outlinewidth": 0,
              "ticks": ""
             }
            },
            "type": "scattercarpet"
           }
          ],
          "scattergeo": [
           {
            "marker": {
             "colorbar": {
              "outlinewidth": 0,
              "ticks": ""
             }
            },
            "type": "scattergeo"
           }
          ],
          "scattergl": [
           {
            "marker": {
             "colorbar": {
              "outlinewidth": 0,
              "ticks": ""
             }
            },
            "type": "scattergl"
           }
          ],
          "scattermapbox": [
           {
            "marker": {
             "colorbar": {
              "outlinewidth": 0,
              "ticks": ""
             }
            },
            "type": "scattermapbox"
           }
          ],
          "scatterpolar": [
           {
            "marker": {
             "colorbar": {
              "outlinewidth": 0,
              "ticks": ""
             }
            },
            "type": "scatterpolar"
           }
          ],
          "scatterpolargl": [
           {
            "marker": {
             "colorbar": {
              "outlinewidth": 0,
              "ticks": ""
             }
            },
            "type": "scatterpolargl"
           }
          ],
          "scatterternary": [
           {
            "marker": {
             "colorbar": {
              "outlinewidth": 0,
              "ticks": ""
             }
            },
            "type": "scatterternary"
           }
          ],
          "surface": [
           {
            "colorbar": {
             "outlinewidth": 0,
             "ticks": ""
            },
            "colorscale": [
             [
              0,
              "#0d0887"
             ],
             [
              0.1111111111111111,
              "#46039f"
             ],
             [
              0.2222222222222222,
              "#7201a8"
             ],
             [
              0.3333333333333333,
              "#9c179e"
             ],
             [
              0.4444444444444444,
              "#bd3786"
             ],
             [
              0.5555555555555556,
              "#d8576b"
             ],
             [
              0.6666666666666666,
              "#ed7953"
             ],
             [
              0.7777777777777778,
              "#fb9f3a"
             ],
             [
              0.8888888888888888,
              "#fdca26"
             ],
             [
              1,
              "#f0f921"
             ]
            ],
            "type": "surface"
           }
          ],
          "table": [
           {
            "cells": {
             "fill": {
              "color": "#EBF0F8"
             },
             "line": {
              "color": "white"
             }
            },
            "header": {
             "fill": {
              "color": "#C8D4E3"
             },
             "line": {
              "color": "white"
             }
            },
            "type": "table"
           }
          ]
         },
         "layout": {
          "annotationdefaults": {
           "arrowcolor": "#2a3f5f",
           "arrowhead": 0,
           "arrowwidth": 1
          },
          "autotypenumbers": "strict",
          "coloraxis": {
           "colorbar": {
            "outlinewidth": 0,
            "ticks": ""
           }
          },
          "colorscale": {
           "diverging": [
            [
             0,
             "#8e0152"
            ],
            [
             0.1,
             "#c51b7d"
            ],
            [
             0.2,
             "#de77ae"
            ],
            [
             0.3,
             "#f1b6da"
            ],
            [
             0.4,
             "#fde0ef"
            ],
            [
             0.5,
             "#f7f7f7"
            ],
            [
             0.6,
             "#e6f5d0"
            ],
            [
             0.7,
             "#b8e186"
            ],
            [
             0.8,
             "#7fbc41"
            ],
            [
             0.9,
             "#4d9221"
            ],
            [
             1,
             "#276419"
            ]
           ],
           "sequential": [
            [
             0,
             "#0d0887"
            ],
            [
             0.1111111111111111,
             "#46039f"
            ],
            [
             0.2222222222222222,
             "#7201a8"
            ],
            [
             0.3333333333333333,
             "#9c179e"
            ],
            [
             0.4444444444444444,
             "#bd3786"
            ],
            [
             0.5555555555555556,
             "#d8576b"
            ],
            [
             0.6666666666666666,
             "#ed7953"
            ],
            [
             0.7777777777777778,
             "#fb9f3a"
            ],
            [
             0.8888888888888888,
             "#fdca26"
            ],
            [
             1,
             "#f0f921"
            ]
           ],
           "sequentialminus": [
            [
             0,
             "#0d0887"
            ],
            [
             0.1111111111111111,
             "#46039f"
            ],
            [
             0.2222222222222222,
             "#7201a8"
            ],
            [
             0.3333333333333333,
             "#9c179e"
            ],
            [
             0.4444444444444444,
             "#bd3786"
            ],
            [
             0.5555555555555556,
             "#d8576b"
            ],
            [
             0.6666666666666666,
             "#ed7953"
            ],
            [
             0.7777777777777778,
             "#fb9f3a"
            ],
            [
             0.8888888888888888,
             "#fdca26"
            ],
            [
             1,
             "#f0f921"
            ]
           ]
          },
          "colorway": [
           "#636efa",
           "#EF553B",
           "#00cc96",
           "#ab63fa",
           "#FFA15A",
           "#19d3f3",
           "#FF6692",
           "#B6E880",
           "#FF97FF",
           "#FECB52"
          ],
          "font": {
           "color": "#2a3f5f"
          },
          "geo": {
           "bgcolor": "white",
           "lakecolor": "white",
           "landcolor": "#E5ECF6",
           "showlakes": true,
           "showland": true,
           "subunitcolor": "white"
          },
          "hoverlabel": {
           "align": "left"
          },
          "hovermode": "closest",
          "mapbox": {
           "style": "light"
          },
          "paper_bgcolor": "white",
          "plot_bgcolor": "#E5ECF6",
          "polar": {
           "angularaxis": {
            "gridcolor": "white",
            "linecolor": "white",
            "ticks": ""
           },
           "bgcolor": "#E5ECF6",
           "radialaxis": {
            "gridcolor": "white",
            "linecolor": "white",
            "ticks": ""
           }
          },
          "scene": {
           "xaxis": {
            "backgroundcolor": "#E5ECF6",
            "gridcolor": "white",
            "gridwidth": 2,
            "linecolor": "white",
            "showbackground": true,
            "ticks": "",
            "zerolinecolor": "white"
           },
           "yaxis": {
            "backgroundcolor": "#E5ECF6",
            "gridcolor": "white",
            "gridwidth": 2,
            "linecolor": "white",
            "showbackground": true,
            "ticks": "",
            "zerolinecolor": "white"
           },
           "zaxis": {
            "backgroundcolor": "#E5ECF6",
            "gridcolor": "white",
            "gridwidth": 2,
            "linecolor": "white",
            "showbackground": true,
            "ticks": "",
            "zerolinecolor": "white"
           }
          },
          "shapedefaults": {
           "line": {
            "color": "#2a3f5f"
           }
          },
          "ternary": {
           "aaxis": {
            "gridcolor": "white",
            "linecolor": "white",
            "ticks": ""
           },
           "baxis": {
            "gridcolor": "white",
            "linecolor": "white",
            "ticks": ""
           },
           "bgcolor": "#E5ECF6",
           "caxis": {
            "gridcolor": "white",
            "linecolor": "white",
            "ticks": ""
           }
          },
          "title": {
           "x": 0.05
          },
          "xaxis": {
           "automargin": true,
           "gridcolor": "white",
           "linecolor": "white",
           "ticks": "",
           "title": {
            "standoff": 15
           },
           "zerolinecolor": "white",
           "zerolinewidth": 2
          },
          "yaxis": {
           "automargin": true,
           "gridcolor": "white",
           "linecolor": "white",
           "ticks": "",
           "title": {
            "standoff": 15
           },
           "zerolinecolor": "white",
           "zerolinewidth": 2
          }
         }
        },
        "title": {
         "text": "Slice Plot"
        },
        "width": 2100,
        "xaxis": {
         "anchor": "y",
         "domain": [
          0,
          0.1183673469387755
         ],
         "title": {
          "text": "depth"
         }
        },
        "xaxis2": {
         "anchor": "y2",
         "domain": [
          0.14693877551020407,
          0.26530612244897955
         ],
         "title": {
          "text": "leaf_estimation_iterations"
         }
        },
        "xaxis3": {
         "anchor": "y3",
         "domain": [
          0.29387755102040813,
          0.4122448979591836
         ],
         "title": {
          "text": "learning_rate"
         }
        },
        "xaxis4": {
         "anchor": "y4",
         "domain": [
          0.4408163265306122,
          0.5591836734693877
         ],
         "title": {
          "text": "min_data_in_leaf"
         }
        },
        "xaxis5": {
         "anchor": "y5",
         "domain": [
          0.5877551020408163,
          0.7061224489795918
         ],
         "title": {
          "text": "random_strength"
         }
        },
        "xaxis6": {
         "anchor": "y6",
         "domain": [
          0.7346938775510204,
          0.8530612244897959
         ],
         "title": {
          "text": "reg_lambda"
         }
        },
        "xaxis7": {
         "anchor": "y7",
         "domain": [
          0.8816326530612244,
          0.9999999999999999
         ],
         "title": {
          "text": "subsample"
         }
        },
        "yaxis": {
         "anchor": "x",
         "domain": [
          0,
          1
         ],
         "title": {
          "text": "Objective Value"
         }
        },
        "yaxis2": {
         "anchor": "x2",
         "domain": [
          0,
          1
         ],
         "matches": "y",
         "showticklabels": false
        },
        "yaxis3": {
         "anchor": "x3",
         "domain": [
          0,
          1
         ],
         "matches": "y",
         "showticklabels": false
        },
        "yaxis4": {
         "anchor": "x4",
         "domain": [
          0,
          1
         ],
         "matches": "y",
         "showticklabels": false
        },
        "yaxis5": {
         "anchor": "x5",
         "domain": [
          0,
          1
         ],
         "matches": "y",
         "showticklabels": false
        },
        "yaxis6": {
         "anchor": "x6",
         "domain": [
          0,
          1
         ],
         "matches": "y",
         "showticklabels": false
        },
        "yaxis7": {
         "anchor": "x7",
         "domain": [
          0,
          1
         ],
         "matches": "y",
         "showticklabels": false
        }
       }
      }
     },
     "metadata": {},
     "output_type": "display_data"
    }
   ],
   "source": [
    "# Performance of Key Hyper-parameters\n",
    "optuna.visualization.plot_slice(study_cat, params=['depth', \n",
    "                                                   'learning_rate', \n",
    "                                                   'min_data_in_leaf', \n",
    "                                                   'leaf_estimation_iterations', 'reg_lambda', \n",
    "                                                   'random_strength', \n",
    "                                                   'subsample'\n",
    "                                                   ])"
   ]
  }
 ],
 "metadata": {
  "interpreter": {
   "hash": "495b13af7e3cd872ca0a2451f1ad31db014dfdd72bcf156b32505e231fa2c549"
  },
  "kernelspec": {
   "display_name": "Python 3.7.12 ('DataMasked')",
   "language": "python",
   "name": "python3"
  },
  "language_info": {
   "codemirror_mode": {
    "name": "ipython",
    "version": 3
   },
   "file_extension": ".py",
   "mimetype": "text/x-python",
   "name": "python",
   "nbconvert_exporter": "python",
   "pygments_lexer": "ipython3",
   "version": "3.7.12"
  },
  "orig_nbformat": 4
 },
 "nbformat": 4,
 "nbformat_minor": 2
}
